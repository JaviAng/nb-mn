{
 "cells": [
  {
   "cell_type": "code",
   "execution_count": 22,
   "metadata": {},
   "outputs": [
    {
     "name": "stdout",
     "output_type": "stream",
     "text": [
      " si la nave se estrella con el planeta = 0, si no = 1\n",
      "0\n"
     ]
    }
   ],
   "source": [
    "#Juan Vera 3438, Oscar Martinez 3324\n",
    "archivo= open('text.txt','r')\n",
    "In=archivo.read()\n",
    "data= str(In).split(\",\")\n",
    "m1 = float(data[0])\n",
    "m2 = float(data[1])\n",
    "r = float(data[2])\n",
    "x1 = float(data[3])\n",
    "y1 = float(data[4])\n",
    "x2 = float(data[5])\n",
    "y2 = float(data[6])\n",
    "v2x = float(data[7])\n",
    "v2y = float(data[8])\n",
    "rp = ((((x2-x1)**2)+((y2-y1)**2)))**(0.5)\n",
    "G = 6.674*(10**-11)\n",
    "Fg = G*m1*m2*(1/rp**2)\n",
    "print(' si la nave se estrella con el planeta = 0, si no = 1')\n",
    "if rp <= r :\n",
    "    print(0)\n",
    "else:\n",
    "    print(1)\n"
   ]
  },
  {
   "cell_type": "code",
   "execution_count": null,
   "metadata": {},
   "outputs": [],
   "source": []
  }
 ],
 "metadata": {
  "kernelspec": {
   "display_name": "Python 3",
   "language": "python",
   "name": "python3"
  },
  "language_info": {
   "codemirror_mode": {
    "name": "ipython",
    "version": 3
   },
   "file_extension": ".py",
   "mimetype": "text/x-python",
   "name": "python",
   "nbconvert_exporter": "python",
   "pygments_lexer": "ipython3",
   "version": "3.6.4"
  }
 },
 "nbformat": 4,
 "nbformat_minor": 2
}
