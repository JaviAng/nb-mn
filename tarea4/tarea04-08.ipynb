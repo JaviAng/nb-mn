{
 "cells": [
  {
   "cell_type": "code",
   "execution_count": 15,
   "metadata": {
    "scrolled": true
   },
   "outputs": [
    {
     "name": "stdout",
     "output_type": "stream",
     "text": [
      "                        \u001b[1;36m******************************************************\u001b[0;m\n",
      "                        \u001b[1;36m*           PROBLEMA DE CHOQUE DE 2 AVIONES          *\u001b[0;m\n",
      "                        \u001b[1;36m*                                                    *\u001b[0;m\n",
      "                      \u001b[1;36m  *  REALIZADO POR NICOLAS RINCON Y CRISTIAN BELTRAN   *\u001b[0;m\n",
      "                        \u001b[1;36m*                                                    *\u001b[0;m\n",
      "                        \u001b[1;36m*                 METODOS NUMERICOS                  *\u001b[0;m\n",
      "                        \u001b[1;36m*                                                    *\u001b[0;m\n",
      "                        \u001b[1;36m*                 ING.JAVIER ENCISO                  *\u001b[0;m\n",
      "                        \u001b[1;36m*                                                    *\u001b[0;m\n",
      "                        \u001b[1;36m******************************************************\u001b[0;m\n",
      "\n",
      "MG=9;MP=4;R=1;Xo=8;Yo=8;Xi=2;Yi=2;Vox=2;Yox= 1\n",
      "\n",
      "\n",
      "0\n"
     ]
    }
   ],
   "source": [
    "print(\"                        \\033[1;36m\"+\"******************************************************\"+'\\033[0;m')\n",
    "print(\"                        \\033[1;36m\"+\"*           PROBLEMA DE CHOQUE DE 2 AVIONES          *\"+'\\033[0;m')\n",
    "print(\"                        \\033[1;36m\"+\"*                                                    *\"+'\\033[0;m')\n",
    "print(\"                      \\033[1;36m\"+\"  *  REALIZADO POR NICOLAS RINCON Y CRISTIAN BELTRAN   *\"+'\\033[0;m')\n",
    "print(\"                        \\033[1;36m\"+\"*                                                    *\"+'\\033[0;m')\n",
    "print(\"                        \\033[1;36m\"+\"*                 METODOS NUMERICOS                  *\"+'\\033[0;m')\n",
    "print(\"                        \\033[1;36m\"+\"*                                                    *\"+'\\033[0;m')\n",
    "print(\"                        \\033[1;36m\"+\"*                 ING.JAVIER ENCISO                  *\"+'\\033[0;m')\n",
    "print(\"                        \\033[1;36m\"+\"*                                                    *\"+'\\033[0;m')\n",
    "print(\"                        \\033[1;36m\"+\"******************************************************\"+'\\033[0;m')\n",
    "print(\"\")\n",
    "#avance programa tarea 4\n",
    "%matplotlib inline\n",
    "import numpy as np\n",
    "import matplotlib.pyplot as plt\n",
    "import math\n",
    "\n",
    "prueba=open(\"prueba.txt\")\n",
    "linea= prueba.readline()\n",
    "while linea !='':\n",
    "      linea= prueba.readline()\n",
    "      print(linea)\n",
    "MG=9;MP=4;R=1;Xo=8;Yo=8;Xi=2;Yi=2;Vox=2;Yox= 1; #valores \n",
    "D= int ( np.sqrt((((Xi-Xo)**2)-((Yi-Yo)**2))))##ecuacion distancia entre dos puntos\n",
    "print(D)"
   ]
  },
  {
   "cell_type": "code",
   "execution_count": null,
   "metadata": {},
   "outputs": [],
   "source": []
  }
 ],
 "metadata": {
  "kernelspec": {
   "display_name": "Python 3",
   "language": "python",
   "name": "python3"
  },
  "language_info": {
   "codemirror_mode": {
    "name": "ipython",
    "version": 3
   },
   "file_extension": ".py",
   "mimetype": "text/x-python",
   "name": "python",
   "nbconvert_exporter": "python",
   "pygments_lexer": "ipython3",
   "version": "3.6.4"
  }
 },
 "nbformat": 4,
 "nbformat_minor": 2
}
