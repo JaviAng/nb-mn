{
 "cells": [
  {
   "cell_type": "code",
   "execution_count": 3,
   "metadata": {},
   "outputs": [
    {
     "name": "stdout",
     "output_type": "stream",
     "text": [
      " TAREA 4. PRONOSTICO DE UN COLAPSO\n",
      " BRAYAN J. SALDARRIAGA 161003640\n",
      " FELIPE CORAL OTALORA 161003611\n",
      "40.5\n",
      "20.2\n",
      "55.0\n",
      "10.1\n",
      "30.2\n",
      "99.0\n",
      "100.0\n",
      "87.0\n",
      "101.0\n",
      "distancia entre el centro de la masa 1 al de la masa 2:  113.02765148405058\n",
      "6.674e-11\n",
      "fuerza de atraccion gravitaroria de la masa1 sobre la masa 2:  4.2738884953327715e-12\n",
      "esta historia continuará porque no sabemos que mas hacer......\n"
     ]
    }
   ],
   "source": [
    "print(\" TAREA 4. PRONOSTICO DE UN COLAPSO\")\n",
    "print(\" BRAYAN J. SALDARRIAGA 161003640\")\n",
    "print(\" FELIPE CORAL OTALORA 161003611\")\n",
    "archivo= open('datos.txt','r')\n",
    "entrada=archivo.read()\n",
    "datos= str(entrada).split(\",\")\n",
    "mi=float(datos[0])\n",
    "m0=float(datos[1])\n",
    "r=float(datos[2])\n",
    "xi=float(datos[3])\n",
    "yi=float(datos[4])\n",
    "x0=float(datos[5])\n",
    "y0=float(datos[6])\n",
    "vx=float(datos[7])\n",
    "vy=float(datos[8])\n",
    "colapso=0\n",
    "radio=(((x0-xi)**2)+((y0-yi)**2))**(1/2)\n",
    "constante=6.674*(10**-11)\n",
    "gravedad=(constante*((mi*m0)/(radio**(2))))\n",
    "print(mi)\n",
    "print(m0)\n",
    "print(r)\n",
    "print(xi)\n",
    "print(yi)\n",
    "print(x0)\n",
    "print(y0)\n",
    "print(vx)\n",
    "print(vy)\n",
    "print(\"distancia entre el centro de la masa 1 al de la masa 2: \",radio)\n",
    "print(constante)\n",
    "print(\"fuerza de atraccion gravitaroria de la masa1 sobre la masa 2: \",gravedad)\n",
    "print(\"esta historia continuará porque no sabemos que mas hacer......\")"
   ]
  },
  {
   "cell_type": "code",
   "execution_count": null,
   "metadata": {},
   "outputs": [],
   "source": []
  }
 ],
 "metadata": {
  "kernelspec": {
   "display_name": "Python 3",
   "language": "python",
   "name": "python3"
  },
  "language_info": {
   "codemirror_mode": {
    "name": "ipython",
    "version": 3
   },
   "file_extension": ".py",
   "mimetype": "text/x-python",
   "name": "python",
   "nbconvert_exporter": "python",
   "pygments_lexer": "ipython3",
   "version": "3.5.2"
  }
 },
 "nbformat": 4,
 "nbformat_minor": 2
}
