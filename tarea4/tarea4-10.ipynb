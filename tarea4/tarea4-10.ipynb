{
 "cells": [
  {
   "cell_type": "code",
   "execution_count": 3,
   "metadata": {},
   "outputs": [
    {
     "ename": "FileNotFoundError",
     "evalue": "[Errno 2] No such file or directory: 'datos.txt'",
     "output_type": "error",
     "traceback": [
      "\u001b[0;31m---------------------------------------------------------------------------\u001b[0m",
      "\u001b[0;31mFileNotFoundError\u001b[0m                         Traceback (most recent call last)",
      "\u001b[0;32m<ipython-input-3-a238c4c2791e>\u001b[0m in \u001b[0;36m<module>\u001b[0;34m()\u001b[0m\n\u001b[1;32m      2\u001b[0m \u001b[0;32mimport\u001b[0m \u001b[0mmatplotlib\u001b[0m\u001b[0;34m.\u001b[0m\u001b[0mpyplot\u001b[0m \u001b[0;32mas\u001b[0m \u001b[0mplt\u001b[0m\u001b[0;34m\u001b[0m\u001b[0m\n\u001b[1;32m      3\u001b[0m \u001b[0;32mimport\u001b[0m \u001b[0mnumpy\u001b[0m \u001b[0;32mas\u001b[0m \u001b[0mnp\u001b[0m\u001b[0;34m\u001b[0m\u001b[0m\n\u001b[0;32m----> 4\u001b[0;31m \u001b[0marchivo\u001b[0m \u001b[0;34m=\u001b[0m \u001b[0mopen\u001b[0m\u001b[0;34m(\u001b[0m\u001b[0;34m\"datos.txt\"\u001b[0m\u001b[0;34m)\u001b[0m\u001b[0;34m\u001b[0m\u001b[0m\n\u001b[0m\u001b[1;32m      5\u001b[0m \u001b[0mtexto\u001b[0m \u001b[0;34m=\u001b[0m \u001b[0marchivo\u001b[0m\u001b[0;34m.\u001b[0m\u001b[0mread\u001b[0m\u001b[0;34m(\u001b[0m\u001b[0;34m)\u001b[0m\u001b[0;34m\u001b[0m\u001b[0m\n\u001b[1;32m      6\u001b[0m \u001b[0mtexto\u001b[0m \u001b[0;34m=\u001b[0m \u001b[0mtexto\u001b[0m\u001b[0;34m.\u001b[0m\u001b[0msplit\u001b[0m\u001b[0;34m(\u001b[0m\u001b[0;34m\",\"\u001b[0m\u001b[0;34m)\u001b[0m\u001b[0;34m\u001b[0m\u001b[0m\n",
      "\u001b[0;31mFileNotFoundError\u001b[0m: [Errno 2] No such file or directory: 'datos.txt'"
     ]
    }
   ],
   "source": [
    "import math\n",
    "import matplotlib.pyplot as plt\n",
    "import numpy as np\n",
    "archivo = open(\"datos.txt\")\n",
    "texto = archivo.read()\n",
    "texto = texto.split(\",\")\n",
    "masa1= []\n",
    "for linea in texto:\n",
    "    masa1.append(linea.strip())\n",
    "m1=print(\"masa de la nave :\", masa1[0])\n",
    "m2=print(\"masa del objeto  :\", masa1[1])\n",
    "m3=print(\"coordenadas de la masa en el eje x :\",masa1[2])\n",
    "m4=print(\"coordenadas del objeto  en el eje x :\",masa1[3])\n",
    "m5=print(\"radio:\" ,masa1[4])\n",
    "m6=print(\"velocidad 1 : \" ,masa1[5])\n",
    "m7=print(\"velocidad 2 :\",masa1[6])\n",
    "m8=print(\"Gravedad : \" ,masa1[7])\n",
    "m9=print(\"constante grafivtaoria:\",masa1[8])\n",
    "m10=print(\"coordenadas de la masa en el eje x:\",masa1[9])\n",
    "m11=print(\"coordenadas de la masa en el eje y :\",masa1[10])\n",
    "# Fuerza Gravitacional\n",
    "m1=masa1[0]\n",
    "M1=float(m1)\n",
    "m2=masa1[1]\n",
    "M2=float(m2)\n",
    "m5=masa1[4]\n",
    "R=float(m5)\n",
    "m9=masa1[8]\n",
    "c_G=float(m9)\n",
    "MASAS=M1*M2\n",
    "numerador=MASAS*c_G\n",
    "F=(numerador)/(R**2)\n",
    "print(\"Fuerza gravitacional:\",F)\n",
    "#-----------------------------eje x---------------------------------\n",
    "m3=masa1[2]\n",
    "M3=float(m3)\n",
    "m10=masa1[9]\n",
    "M10=float(m10)\n",
    "#-----------------------------Eje y-----------------------------\n",
    "m4=masa1[3]\n",
    "M4=float(m4)\n",
    "m11=masa1[10]\n",
    "M11=float(m11)\n",
    "#---------------------Distancia Entre puntos ------\n",
    "Distancia = math.sqrt(((M3-M10)**2)+((M4-M11)**2))\n",
    "print(\"Distancia  entre puntos :\",Distancia)\n",
    "#is= ((((X2-X1)**2)+((Y2-Y1)**2)))**(0.5)\n",
    "#-----------------------Graficar------------------------------------\n",
    "def f(x):\n",
    "\treturn np.exp(x**0.5)\n",
    "x = np.linspace(-20,25 , num=1000)\n",
    "plt.plot(x , f(x))\n",
    "#plt.ylabel('EJE Y')\n",
    "#plt.xlabel('EJE x')\n",
    "plt.show()\n",
    "archivo.close()"
   ]
  },
  {
   "cell_type": "code",
   "execution_count": null,
   "metadata": {},
   "outputs": [],
   "source": []
  }
 ],
 "metadata": {
  "kernelspec": {
   "display_name": "Python 3",
   "language": "python",
   "name": "python3"
  },
  "language_info": {
   "codemirror_mode": {
    "name": "ipython",
    "version": 3
   },
   "file_extension": ".py",
   "mimetype": "text/x-python",
   "name": "python",
   "nbconvert_exporter": "python",
   "pygments_lexer": "ipython3",
   "version": "3.6.4"
  }
 },
 "nbformat": 4,
 "nbformat_minor": 2
}
