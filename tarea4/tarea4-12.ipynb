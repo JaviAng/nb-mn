{
 "cells": [
  {
   "cell_type": "code",
   "execution_count": 1,
   "metadata": {},
   "outputs": [
    {
     "name": "stdout",
     "output_type": "stream",
     "text": [
      "    1: 50,20,5,2,3,12,5,45,0\n",
      "\n",
      "    2: 22.5,45.6,6,3,4,9,12,65.8,0\n",
      "\n",
      "    3: 100,200,1,1,1,1,2,12,0\n"
     ]
    }
   ],
   "source": [
    "archivo = open(\"tarea4.txt\")\n",
    "i = 1\n",
    "for linea in archivo:\n",
    "    linea = linea.rstrip(\"\\\\n\")\n",
    "    print \" %4d: %s\" % (i, linea)\n",
    "    i+=1\n",
    "archivo.close()"
   ]
  },
  {
   "cell_type": "code",
   "execution_count": 4,
   "metadata": {},
   "outputs": [
    {
     "name": "stdout",
     "output_type": "stream",
     "text": [
      "                       Tarea 4 Metodos numericos \n",
      "Jose David Ramos Rios, 161002940 \n",
      "Digite 1 en adelante\n",
      "digite la linea en donde quiere ver las coordenas de los 2 objetos :3\n"
     ]
    }
   ],
   "source": [
    "print(\"                       Tarea 4 Metodos numericos \")\n",
    "print(\"Jose David Ramos Rios, 161002940 \")\n",
    "print(\"Digite 1 en adelante\")\n",
    "cantidad = int(input(\"digite la linea en donde quiere ver las coordenas de los 2 objetos :\"))                \n",
    "                "
   ]
  },
  {
   "cell_type": "code",
   "execution_count": 5,
   "metadata": {
    "scrolled": true
   },
   "outputs": [
    {
     "name": "stdout",
     "output_type": "stream",
     "text": [
      "\n",
      "\n",
      "Masa 1: 100  Masa 2: 200  Radio : 1  X1: 1  Y1: 1 X2: 1 Y2: 2 Velocidad 1: 12 Velocidad 2: 0\n",
      " Distancia entre 2 objetos : 1.0\n",
      "100.0\n",
      " Fuerza de atraccion entre 2 objetos: 1.334816e-06\n",
      "                         Fuerza gravitacional con magnitud vectorial\n",
      " Fuerza gravitacional: -1.334816e-06  Newtons\n",
      "\u001b[1;31m0: Si chocan\u001b[1;m\n"
     ]
    }
   ],
   "source": [
    "                 \n",
    "print(\"\")\n",
    "import math\n",
    "from scipy import constants as constantes\n",
    "archivo = open(\"tarea4.txt\")\n",
    "i=0\n",
    "\n",
    "for line in archivo:\n",
    "    linea = line.split(',')\n",
    "    masa1=linea[0]\n",
    "    masa2=linea[1]\n",
    "    radio=linea[2]\n",
    "    x1=linea[3]\n",
    "    y1=linea[4]\n",
    "    x2=linea[5]\n",
    "    y2=linea[6]\n",
    "    vel1=linea[7]\n",
    "    vel2=linea[8]\n",
    "        \n",
    "    i=i+1\n",
    "    if i == cantidad:\n",
    "        break\n",
    "\n",
    "#-----------------------------------------------------------------------------------------------------------------------    \n",
    "print\"\"\n",
    "print \"Masa 1:\",masa1,\" Masa 2:\",masa2,\" Radio :\",radio,\" X1:\",x1,\" Y1:\",y1,\"X2:\",x2,\"Y2:\",y2,\"Velocidad 1:\",vel1,\"Velocidad 2:\",vel2\n",
    "X1=float(x1)\n",
    "X2=float(x2)\n",
    "Y1=float(y1)\n",
    "Y2=float(y2)\n",
    "dis= ((((X2-X1)**2)+((Y2-Y1)**2)))**(0.5)\n",
    "r=dis\n",
    "\n",
    "print\" Distancia entre 2 objetos :\",dis\n",
    "# Fuerza de atraccion entre los 2 objetos.\n",
    "\n",
    "M1= float(masa1)\n",
    "M2=float(masa2)\n",
    "G = constantes.gravitational_constant\n",
    "\n",
    "Fuerza=((M1*M2)/(r**2))*G\n",
    "print\" Fuerza de atraccion entre 2 objetos:\",Fuerza\n",
    "Radio = (float(radio))\n",
    "\n",
    "print\"                         Fuerza gravitacional con magnitud vectorial\"\n",
    "Fuerza1=((M1*M2)/(r**2))*G*(-1)*(X2/r)\n",
    "print\" Fuerza gravitacional:\",Fuerza1,\" Newtons\"\n",
    "\n",
    "if(dis <= Radio):print '\\033[1;31m0: Si chocan\\033[1;m'\n",
    "else:\n",
    "    print '\\033[1;32m1: No chocan\\033[1;m'\n",
    "   \n",
    "\n",
    "\n",
    "archivo.close()\n",
    "\n"
   ]
  },
  {
   "cell_type": "code",
   "execution_count": null,
   "metadata": {},
   "outputs": [],
   "source": []
  }
 ],
 "metadata": {
  "kernelspec": {
   "display_name": "Python 2",
   "language": "python",
   "name": "python2"
  },
  "language_info": {
   "codemirror_mode": {
    "name": "ipython",
    "version": 2
   },
   "file_extension": ".py",
   "mimetype": "text/x-python",
   "name": "python",
   "nbconvert_exporter": "python",
   "pygments_lexer": "ipython2",
   "version": "2.7.14"
  }
 },
 "nbformat": 4,
 "nbformat_minor": 2
}
