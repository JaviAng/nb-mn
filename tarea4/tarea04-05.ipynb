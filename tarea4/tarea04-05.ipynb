{
 "cells": [
  {
   "cell_type": "code",
   "execution_count": null,
   "metadata": {},
   "outputs": [],
   "source": [
    "\n",
    "f = open ('holamundo.txt','r')\n",
    "menx = f.readlines()\n",
    "\n",
    "f.close()\n",
    "mi = menx[0]\n",
    "d1= float(mi)\n",
    "\n",
    "mo = menx[1]\n",
    "d2= float(mo)\n",
    "\n",
    "r = menx[3]\n",
    "d3= float(r)\n",
    "\n",
    "xi =menx[4]\n",
    "d4= float(xi)\n",
    "\n",
    "yi =menx[5]\n",
    "d5= float(yi)\n",
    "\n",
    "xo =menx[6]\n",
    "d6= float(xo)\n",
    "\n",
    "yo =menx[7]\n",
    "d7= float(yo)\n",
    "\n",
    "vox =menx[8]\n",
    "d8= float(vox)\n",
    "\n",
    "voy =menx[9]\n",
    "d9= float(voy)\n",
    "\n",
    "print(\"aaaaa\",d5)\n"
   ]
  }
 ],
 "metadata": {
  "kernelspec": {
   "display_name": "Python 3",
   "language": "python",
   "name": "python3"
  },
  "language_info": {
   "codemirror_mode": {
    "name": "ipython",
    "version": 3
   },
   "file_extension": ".py",
   "mimetype": "text/x-python",
   "name": "python",
   "nbconvert_exporter": "python",
   "pygments_lexer": "ipython3",
   "version": "3.6.4"
  }
 },
 "nbformat": 4,
 "nbformat_minor": 2
}
