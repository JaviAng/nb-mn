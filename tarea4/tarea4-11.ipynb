{
 "cells": [
  {
   "cell_type": "markdown",
   "metadata": {},
   "source": [
    "# TAREA 4\n",
    "Juan celeita 161003508 - Jessica Gutierrez 161003518."
   ]
  },
  {
   "cell_type": "code",
   "execution_count": 1,
   "metadata": {},
   "outputs": [
    {
     "name": "stdout",
     "output_type": "stream",
     "text": [
      "*---recuerde: primero escribir los datos necesarios en el archivo txt---*\n",
      "\n",
      "*---los datos ingresados son: ---*\n",
      "98.72 - 78.98 - 13.87 - 14.5 - 7.89 - 22.5 - 10.876 - 12.0 - 12.3\n",
      "\n",
      "*---la distancia entre la nave y el planeta es:  8.539098078837132\n",
      "\n",
      "*---la fuerza de atraccion es:  7.136486930064208e-09\n",
      "\n",
      "\u001b[1;34m**LA NAVE SE ESTRELLARA CONTRA EL PLANETA**\n"
     ]
    }
   ],
   "source": [
    "print(\"*---recuerde: primero escribir los datos necesarios en el archivo txt---*\")\n",
    "archivo= open('datos.txt','r')\n",
    "entrada=archivo.read()\n",
    "datos= str(entrada).split(\"-\")\n",
    "masai=float(datos[0])\n",
    "masa0=float(datos[1])\n",
    "radio=float(datos[2])\n",
    "xi=float(datos[3])\n",
    "yi=float(datos[4])\n",
    "x0=float(datos[5])\n",
    "y0=float(datos[6])\n",
    "vlx=float(datos[7])\n",
    "vly=float(datos[8])\n",
    "print(\"\\n*---los datos ingresados son: ---*\")\n",
    "print(masai,'-', masa0,'-', radio,'-', xi,'-', yi,'-', x0,'-', y0,'-', vlx,'-', vly)\n",
    "\n",
    "dist= (((x0-xi)**2)+((y0-yi)**2))**(0.5)\n",
    "print(\"\\n*---la distancia entre la nave y el planeta es: \", dist)\n",
    "\n",
    "const= 6.674e-11\n",
    "grav=(((masai*masa0)/(dist**2))*const)\n",
    "print(\"\\n*---la fuerza de atraccion es: \", grav)\n",
    "\n",
    "if dist <= radio:\n",
    "    a=print(\"\\n\\033[1;34m\"+\"**LA NAVE SE ESTRELLARA CONTRA EL PLANETA**\")\n",
    "else:\n",
    "    a=print(\"\\n\\033[1;34m\"+\"**LA NAVE NO SE ESTRELLARA CONTRA EL PLANETA**\")"
   ]
  }
 ],
 "metadata": {
  "kernelspec": {
   "display_name": "Python 3",
   "language": "python",
   "name": "python3"
  },
  "language_info": {
   "codemirror_mode": {
    "name": "ipython",
    "version": 3
   },
   "file_extension": ".py",
   "mimetype": "text/x-python",
   "name": "python",
   "nbconvert_exporter": "python",
   "pygments_lexer": "ipython3",
   "version": "3.6.3"
  }
 },
 "nbformat": 4,
 "nbformat_minor": 2
}
