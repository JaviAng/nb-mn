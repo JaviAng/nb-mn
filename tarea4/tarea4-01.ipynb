{
 "cells": [
  {
   "cell_type": "markdown",
   "metadata": {},
   "source": [
    "Cesar Andrés Galindo Villalobos /\n",
    "Juan Sebastian Correa Paez"
   ]
  },
  {
   "cell_type": "markdown",
   "metadata": {},
   "source": [
    "**MOVIMIENTO DE UN CUERPO HACÍA UN PLANETA**"
   ]
  },
  {
   "cell_type": "markdown",
   "metadata": {},
   "source": [
    "Un cuerpo de masa m2, parte desde una posición (a,b), con una velocidad horizontal Vx y una velocidad vertical Vy hacía un planeta de masa 1, radio R y con un centro de gravedad ubicado en el punto (h,k) del sistema de coordenadas rectangulares y a una distancia r. Establecer un modelo fisico matemático para definir si el cuerpo choca o no con el planeta.  "
   ]
  },
  {
   "cell_type": "markdown",
   "metadata": {},
   "source": [
    "**Elementos trigonométricos**\n",
    "\n",
    "- Ángulo de desviación (alpha)\n",
    "\n",
    "sen(alpha)=R/r entonces alpha=arcsen(R/r)    **(1)**\n",
    "\n",
    "donde R es constante, r es el vector posición inicial. Si r -> alpha, entonces alpha = 0\n",
    "\n",
    "- Ángulo de inclinación de vector de la fuerza de gravitación universal\n",
    "\n",
    "tan(tetha)=(b-k)/(a-h) -> tetha=arctan((b-k)/(a-h))     **(2)**\n",
    "\n",
    "- Ángulo direccional del vector de la velocidad\n",
    "\n",
    "tan(betha)=Vy/Vx -> betha=arctan(Vy/Vx)      **(3)**\n",
    "\n",
    "- Relación entre ángulos\n",
    "\n",
    "tetha=alpha + betha -> alpha = tetha - alpha\n",
    "                       alpha = arcsen(R/r) =arctan((b-k)/(a-h))=arctan(Vy/Vx)   **(4)**\n",
    "                       \n",
    "**Situaciones físicas**\n",
    "\n",
    "Si alpha<=arcsen(R/r), el cuerpo hará contacto con el planeta\n",
    "\n",
    "Si alpha>arcsen(R/r), el cuerpo no hará contacto con el planeta\n",
    "\n",
    "**Modelo fisico matemático que relaciona el ánguo de desviación con las variables físicas: fuerza gravitacional, posición.**\n",
    "\n",
    "- Vector posición en función de masas y fuerza gravitacional\n",
    "\n",
    "F=(Gm1m2)/r^2 -> r^2=(G*m1*m2)/F -> r=((Gm1m2)/F)^(1/2)      **(5)**\n",
    "\n",
    "- Reemplazar r en ecuación (1)\n",
    "\n",
    "alpha=arcsen(R/((Gm1m2)/F)^(1/2)) = arcsen=(R(F/(Gm1m2))^(1/2))\n",
    "\n",
    "Si F -> 0, entonces alpha -> 0\n",
    "\n",
    "- Modelo Físico matemático\n",
    "\n",
    "alpha=arcsen(R*(F/(G*m1*m2))^(1/2)) = arctan((b-k)/(a-h))- arctan(Vy/Vx)"
   ]
  },
  {
   "cell_type": "markdown",
   "metadata": {},
   "source": [
    "**FORMA DE SOLUCIÓN NO.1 SEGÚN ÁNGULO DE DESVIACIÓN**"
   ]
  },
  {
   "cell_type": "code",
   "execution_count": 5,
   "metadata": {
    "scrolled": true
   },
   "outputs": [
    {
     "name": "stdout",
     "output_type": "stream",
     "text": [
      "Los datos son: 0,15,0,15,100,10,25000,1000,500,25000\n",
      "El ángulo de desviación es 29.999999999999993\n",
      "La condición es: 0.5235987755982989\n",
      "Como el ángulo de desviación es mayor a la condición, el cuerpo no hará contacto con el planeta\n"
     ]
    }
   ],
   "source": [
    "import math\n",
    "\n",
    "f = open ('tarea4-01.txt','r')\n",
    "mensaje = f.read()\n",
    "print(\"Los datos son:\", mensaje)\n",
    "\n",
    "G=float(6.67*(10**-11))\n",
    "dato=str(mensaje).split(\",\")\n",
    "h=float(dato[0])\n",
    "a=float(dato[1])\n",
    "k=float(dato[2])\n",
    "b=float(dato[3])\n",
    "m1=float(dato[4])\n",
    "m2=float(dato[5])\n",
    "Vx=float(dato[6])\n",
    "r=float(dato[7])\n",
    "R=float(dato[8])\n",
    "Vy=float(dato[9])\n",
    "\n",
    "F=(G*m1*m2)/(r**2)\n",
    "\n",
    "alpharad=math.asin((R*math.sqrt(F))/(math.sqrt(G*m1*m2)))\n",
    "\n",
    "alpha=math.degrees(alpharad)\n",
    "\n",
    "print(\"El ángulo de desviación es\", alpha)\n",
    "\n",
    "condicion=math.asin(R/r)\n",
    "\n",
    "print(\"La condición es:\",condicion)\n",
    "\n",
    "if alpha <= condicion:\n",
    "    print(\"Como el ángulo de desviación no es mayor a la condición, el cuerpo hará contacto con el planeta\")   \n",
    "\n",
    "else:\n",
    "    print(\"Como el ángulo de desviación es mayor a la condición, el cuerpo no hará contacto con el planeta\")  \n",
    "\n",
    "f.close()"
   ]
  },
  {
   "cell_type": "markdown",
   "metadata": {},
   "source": [
    "**FORMA DE SOLUCIÓN NO.2 SEGÚN ÁNGULO DE DESVIACIÓN**"
   ]
  },
  {
   "cell_type": "code",
   "execution_count": 6,
   "metadata": {},
   "outputs": [
    {
     "name": "stdout",
     "output_type": "stream",
     "text": [
      "Los datos son: 0,15,0,15,100,10,25000,1000,500,25000\n",
      "El ángulo de desviación es 29.999999999999993\n",
      "La condición es: 0.5235987755982989\n",
      "Como el ángulo de desviación es mayor a la condición, el cuerpo no hará contacto con el planeta\n"
     ]
    }
   ],
   "source": [
    "import math\n",
    "\n",
    "f = open ('tarea4-01.txt','r')\n",
    "mensaje = f.read()\n",
    "print(\"Los datos son:\", mensaje)\n",
    "\n",
    "G=float(6.67*(10**-11))\n",
    "dato=str(mensaje).split(\",\")\n",
    "h=float(dato[0])\n",
    "a=float(dato[1])\n",
    "k=float(dato[2])\n",
    "b=float(dato[3])\n",
    "m1=float(dato[4])\n",
    "m2=float(dato[5])\n",
    "Vx=float(dato[6])\n",
    "r=float(dato[7])\n",
    "R=float(dato[8])\n",
    "Vy=float(dato[9])\n",
    "\n",
    "alpha=math.atan((b-k)/(a-h))-math.atan(Vy/Vx)\n",
    "\n",
    "alpha=math.degrees(alpharad)\n",
    "\n",
    "print(\"El ángulo de desviación es\", alpha)\n",
    "\n",
    "condicion=math.asin(R/r)\n",
    "\n",
    "print(\"La condición es:\",condicion)\n",
    "\n",
    "if alpha <= condicion:\n",
    "    print(\"Como el ángulo de desviación no es mayor a la condición, el cuerpo hará contacto con el planeta\")   \n",
    "\n",
    "else:\n",
    "    print(\"Como el ángulo de desviación es mayor a la condición, el cuerpo no hará contacto con el planeta\")  \n",
    "\n",
    "f.close()"
   ]
  },
  {
   "cell_type": "code",
   "execution_count": null,
   "metadata": {},
   "outputs": [],
   "source": []
  }
 ],
 "metadata": {
  "kernelspec": {
   "display_name": "Python 3",
   "language": "python",
   "name": "python3"
  },
  "language_info": {
   "codemirror_mode": {
    "name": "ipython",
    "version": 3
   },
   "file_extension": ".py",
   "mimetype": "text/x-python",
   "name": "python",
   "nbconvert_exporter": "python",
   "pygments_lexer": "ipython3",
   "version": "3.6.4"
  }
 },
 "nbformat": 4,
 "nbformat_minor": 2
}
