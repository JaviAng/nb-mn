{
 "cells": [
  {
   "cell_type": "code",
   "execution_count": 27,
   "metadata": {},
   "outputs": [
    {
     "name": "stdout",
     "output_type": "stream",
     "text": [
      "0,2,0,768800,66000000000000000000000000,82500,252792\n",
      "La nave no se estrella en el planeta\n"
     ]
    }
   ],
   "source": [
    "#Cesar Galindo    - 161003313\n",
    "#Sebastian Correa - 161003307\n",
    "\n",
    "f = open ('tarea4-01.txt','r')\n",
    "mensaje = f.read()\n",
    "print(mensaje)\n",
    "\n",
    "G=float(6.67*(10**-11))\n",
    "dato=str(mensaje).split(\",\")\n",
    "x1=float(dato[0])\n",
    "x2=float(dato[1])\n",
    "y1=float(dato[2])\n",
    "y2=float(dato[3])\n",
    "m1=float(dato[4])\n",
    "m2=float(dato[5])\n",
    "v=float(dato[6])\n",
    "\n",
    "r=(y2-y1)/(x2-x1)\n",
    "aceleracion=(v**2)/r\n",
    "F1=(G*m1*m2)/(r**2)\n",
    "F2=m2*aceleracion\n",
    "if(F1>F2):\n",
    "    print(\"La nave se estrella en el planeta\")\n",
    "else:\n",
    "    print(\"La nave no se estrella en el planeta\")\n",
    "f.close()"
   ]
  },
  {
   "cell_type": "code",
   "execution_count": null,
   "metadata": {
    "collapsed": true
   },
   "outputs": [],
   "source": []
  }
 ],
 "metadata": {
  "kernelspec": {
   "display_name": "Python 3",
   "language": "python",
   "name": "python3"
  },
  "language_info": {
   "codemirror_mode": {
    "name": "ipython",
    "version": 3
   },
   "file_extension": ".py",
   "mimetype": "text/x-python",
   "name": "python",
   "nbconvert_exporter": "python",
   "pygments_lexer": "ipython3",
   "version": "3.6.4"
  }
 },
 "nbformat": 4,
 "nbformat_minor": 2
}
