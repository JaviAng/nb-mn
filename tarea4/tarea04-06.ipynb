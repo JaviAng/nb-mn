{
 "cells": [
  {
   "cell_type": "code",
   "execution_count": 18,
   "metadata": {},
   "outputs": [],
   "source": [
    "f = open ('valores.txt','w')\n",
    "f.write('1,2,3,4,5,6,7,8,9')\n",
    "f.close()"
   ]
  },
  {
   "cell_type": "code",
   "execution_count": 19,
   "metadata": {},
   "outputs": [
    {
     "name": "stdout",
     "output_type": "stream",
     "text": [
      "Avance\n",
      "1.0\n",
      "2.0\n",
      "3.0\n",
      "4.0\n",
      "5.0\n",
      "6.0\n",
      "7.0\n",
      "8.0\n",
      "9.0\n",
      "Radio 2.8284271247461903\n"
     ]
    }
   ],
   "source": [
    "f = open ('valores.txt','r')\n",
    "valores = str(mensaje).split(\",\")\n",
    "mensaje = f.read()\n",
    "print('Avance')\n",
    "Mi=float(valores[0])\n",
    "M0=float(valores[1])\n",
    "R=float(valores[2])\n",
    "Xi=float(valores[3])\n",
    "Yi=float(valores[4])\n",
    "X0=float(valores[5])\n",
    "Y0=float(valores[6])\n",
    "Vx=float(valores[7])\n",
    "Vy=float(valores[8])\n",
    "colapso=0\n",
    "print(Mi)\n",
    "print(M0)\n",
    "print(R)\n",
    "print(Xi)\n",
    "print(Yi)\n",
    "print(X0)\n",
    "print(Y0)\n",
    "print(Vx)\n",
    "print(Vy)\n",
    "Radio=(((X0-Xi)**2)+((Y0-Yi)**2))**(1/2)\n",
    "print(\"Radio\",Radio)\n",
    "f.close()"
   ]
  },
  {
   "cell_type": "code",
   "execution_count": null,
   "metadata": {},
   "outputs": [],
   "source": []
  }
 ],
 "metadata": {
  "kernelspec": {
   "display_name": "Python 3",
   "language": "python",
   "name": "python3"
  },
  "language_info": {
   "codemirror_mode": {
    "name": "ipython",
    "version": 3
   },
   "file_extension": ".py",
   "mimetype": "text/x-python",
   "name": "python",
   "nbconvert_exporter": "python",
   "pygments_lexer": "ipython3",
   "version": "3.6.4"
  }
 },
 "nbformat": 4,
 "nbformat_minor": 2
}
