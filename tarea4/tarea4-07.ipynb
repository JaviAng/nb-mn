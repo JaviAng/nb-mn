{
 "cells": [
  {
   "cell_type": "code",
   "execution_count": null,
   "metadata": {},
   "outputs": [],
   "source": [
    "import numpy as np\n",
    "import matplotlib.pyplot as plt"
   ]
  },
  {
   "cell_type": "code",
   "execution_count": null,
   "metadata": {},
   "outputs": [],
   "source": [
    "file=\"a.txt\"     # \" Mi , Mo , r , Xi , Yi , Xo , Yo , Vox , Voy \"\n",
    "data=np.loadtxt(file,delimiter=',',skiprows=0,usecols=[0,1,2,3,4,5,6,7,8,9])\n",
    "cantidad=len(data)\n",
    "G   = 6.674e-11"
   ]
  },
  {
   "cell_type": "code",
   "execution_count": null,
   "metadata": {
    "scrolled": true
   },
   "outputs": [],
   "source": [
    "for x in range(cantidad):\n",
    "    \n",
    "    Mi  = data[x,0]\n",
    "    Mo  = data[x,1]\n",
    "    r   = data[x,2]\n",
    "    Xi  = data[x,3]\n",
    "    Yi  = data[x,4]\n",
    "    Xo  = data[x,5]\n",
    "    Yo  = data[x,6]\n",
    "    Vox = data[x,7] - Xo\n",
    "    Voy = data[x,8] - Yo\n",
    "\n",
    "    # Recta que describe el movimiento de la nave sin interaccion con el planeta\n",
    "    # y = a*x + b\n",
    "\n",
    "    a = Voy / Vox\n",
    "    b = Yo - ( a * Xo )\n",
    "\n",
    "    # Distancia entre el movimiento de la nave y el planeta\n",
    "\n",
    "    d = ((a*Xi)-Yi+b)/(((a**2)+1)**0.5)\n",
    "    Vo=((Vox**2)+(Voy**2))**0.5\n",
    "\n",
    "    # Radio del centro del planeta a la nave\n",
    "\n",
    "    rp=(((d**2)*(Vo**2))/(G*Mi))/(1+(1+(((d**2)*(Vo**4))/((G**2)*(Mi**2))))**0.5)\n",
    "\n",
    "    # Verificacion de colicion\n",
    "\n",
    "    if rp <= r:\n",
    "        data[x,9]=1\n",
    "    else:\n",
    "        data[x,9]=0"
   ]
  },
  {
   "cell_type": "code",
   "execution_count": null,
   "metadata": {},
   "outputs": [],
   "source": [
    "# Guardar los datos procesados\n",
    "\n",
    "np.savetxt(\"a.txt\",data,fmt='%.d',delimiter=',',newline='\\n')"
   ]
  }
 ],
 "metadata": {
  "kernelspec": {
   "display_name": "Python 3",
   "language": "python",
   "name": "python3"
  },
  "language_info": {
   "codemirror_mode": {
    "name": "ipython",
    "version": 3
   },
   "file_extension": ".py",
   "mimetype": "text/x-python",
   "name": "python",
   "nbconvert_exporter": "python",
   "pygments_lexer": "ipython3",
   "version": "3.6.4"
  }
 },
 "nbformat": 4,
 "nbformat_minor": 2
}
