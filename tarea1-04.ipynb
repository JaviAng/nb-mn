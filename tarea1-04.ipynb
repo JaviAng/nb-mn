{
 "cells": [
  {
   "cell_type": "code",
   "execution_count": null,
   "metadata": {},
   "outputs": [],
   "source": [
    "#urley camilo guerrero rodriguez 161003449\n",
    "#ricardo ivan diaz moreno 161003415\n",
    "import os\n",
    "def decimal_binario (decimal):\n",
    "\n",
    "\tif decimal < 0 : \t              \n",
    "\t\tsigno = '1'\n",
    "\telse : \n",
    "\t\tsigno = '0'\n",
    "\n",
    "\tdecimal = abs(decimal)   \t\t\t\n",
    "\ta = int (decimal)\n",
    "\tb= decimal - a\n",
    "\tbinario = ''\n",
    "\twhile a > 1 :\n",
    "\t\tbinario = str(a % 2) + binario  \n",
    "\t\ta = a // 2\t\t\n",
    "\tvector = str (a) + binario\n",
    "\tcoma = (len(vector) - 1) + 127\n",
    "\tbinario_1 = ''\n",
    "\twhile coma > 1 :\n",
    "\t\tbinario_1 = str(coma % 2) + binario_1  \n",
    "\t\tcoma = coma // 2\n",
    "\n",
    "\n",
    "\tbinario_2 = ''\n",
    "\twhile b != 0 :                       \n",
    "\t\tb = b * 2\n",
    "\t\tparte_entera = int (b)\n",
    "\t\tb = b - parte_entera \n",
    "\t\tbinario_2 = binario_2 + str(parte_entera)\n",
    "\tvector = vector + str (binario_2)\n",
    "\tmuestro = ((str (signo) + str (coma) + binario_1 + vector[1:]).ljust(32,'0')) \t\n",
    "\tmuestro_1 = ''\n",
    "\tfor i in range (32):\n",
    "\t\tmuestro_1 = muestro_1 + str (muestro[i]) \n",
    "\n",
    "\treturn muestro_1\n",
    "\n",
    "valida = '' \t\t\n",
    "while valida != 'no':\n",
    "\tos.system('cls')\n",
    "\tnumero = float (input ('ingrese numero: '))\n",
    "\tprint (decimal_binario (numero))\n",
    "\tvalida = input ('desea continuar si o no: ')"
   ]
  },
  {
   "cell_type": "code",
   "execution_count": null,
   "metadata": {
    "collapsed": true
   },
   "outputs": [],
   "source": []
  }
 ],
 "metadata": {
  "kernelspec": {
   "display_name": "Python 3",
   "language": "python",
   "name": "python3"
  },
  "language_info": {
   "codemirror_mode": {
    "name": "ipython",
    "version": 3
   },
   "file_extension": ".py",
   "mimetype": "text/x-python",
   "name": "python",
   "nbconvert_exporter": "python",
   "pygments_lexer": "ipython3",
   "version": "3.6.3"
  }
 },
 "nbformat": 4,
 "nbformat_minor": 2
}
