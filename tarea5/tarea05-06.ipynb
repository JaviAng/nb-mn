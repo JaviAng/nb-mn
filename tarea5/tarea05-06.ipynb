{
 "cells": [
  {
   "cell_type": "markdown",
   "metadata": {},
   "source": [
    "## TAREA 05\n",
    "- David Leon \n",
    "- Julian Alayon "
   ]
  },
  {
   "cell_type": "markdown",
   "metadata": {},
   "source": [
    "|Ecuaciones|\n",
    "|:----------------:|\n",
    "|periodo orbital - T = 27,906,98172 ± 0.00005 s |\n",
    "|proyección del eje semi mayor del pulsar - a1sini = 2.3424 ± 0.0007 lights = (7.0223 ± 0.002)x10^10 cm |\n",
    "|tasa de avance de periastron - w = 4.226 ± 0.002 yr-1 |\n",
    "|excentricidad - e = 0.617155 ± 0.000007 |\n",
    "|seno de ángulo de inclinación - sini = 0.81 ± 0.16 |\n",
    "|masa - f = 0.13126 +- 0.00002 M |\n",
    "|centro de masa - R=((qm1)r1+m2r2)/((qm1+m2)) |\n",
    "|energía total del movimiento relativo - E=(1/2(qm1)v1^2)+(1/2(m2)^2(v2)^2)-(1/2(qm1+m2)R^2)-(G(qm1)m2/a0) |\n",
    "|velocidad relativa - v^2=(G(m1+m2))/a0 | \n",
    "|energía total del binario posterior a la explosión - E=1/2m(v)^2(q(m1-m2-2qm1)/((qm1+m2))) |\n",
    "|criterio Blaauw - (m1-qm1)>(qm1+m2) |\n",
    "|criterio Blaauw - (G(m1+m2))/a0 = v^2>v^2esc=(2G(qm1+m2))/a0 |\n",
    "|momento angular - I´=I0(q(m1+m2))/((qm1+m2)) ≡ I0f1(m1,m2,q) |\n",
    "|excentricidad de la órbita final - ±a(1-e^2) = I´^2/(m´k´) |\n",
    "|masa reducida del binario original - k = (G m1 m2) |\n",
    "|velocidad regional -dA0/dt = 1/2(r0)^2(θ0) = i0/2m |\n",
    "|velocidad del centro de masa después de la explosión - Vcm=((1-q)m2*v2)/((qm1+m2)) |\n",
    "|centro de masa - Vcm = m(1-q)/((qm1+m2))((G(m1+m2))/a0)^(1/2) |\n",
    "|velocidad relativa mínima - Vmin=(((1-e))/(1+e)^(1/2))v |\n",
    "|ecuaciones del movimiento - d/dt(dx1/dt)=(Gm2/r^2)cosθ  y d/dt(dy1/dt)=(Gm2/r^2)sinθ |\n",
    "|ecuación de Kepler - v-esenv=(2pi/T)(T-T0)=n(t-t0)=M |\n"
   ]
  },
  {
   "cell_type": "code",
   "execution_count": null,
   "metadata": {},
   "outputs": [],
   "source": []
  }
 ],
 "metadata": {
  "kernelspec": {
   "display_name": "Python 3",
   "language": "python",
   "name": "python3"
  },
  "language_info": {
   "codemirror_mode": {
    "name": "ipython",
    "version": 3
   },
   "file_extension": ".py",
   "mimetype": "text/x-python",
   "name": "python",
   "nbconvert_exporter": "python",
   "pygments_lexer": "ipython3",
   "version": "3.6.4"
  }
 },
 "nbformat": 4,
 "nbformat_minor": 2
}
