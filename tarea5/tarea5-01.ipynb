{
 "cells": [
  {
   "cell_type": "markdown",
   "metadata": {},
   "source": [
    "Cesar Andrés Galindo Villalobos / Juan Sebastian Correa Paez"
   ]
  },
  {
   "cell_type": "markdown",
   "metadata": {},
   "source": [
    "**MECÁNICA CELESTE: **"
   ]
  },
  {
   "cell_type": "markdown",
   "metadata": {},
   "source": [
    "**ECUACIONES DEL MOVIMIENTO**"
   ]
  },
  {
   "cell_type": "markdown",
   "metadata": {},
   "source": [
    "- Radio vector\n",
    "\n",
    "El radio vector tiene por ecuacion, planteando p=C^2/GM,p siendo llamado el parametro de la conica y ν=θ−θo, ν siendo llamada la anomalıa verdadera.\n",
    "\n",
    "*r = p/(1+ecosv)*\n",
    "\n",
    "- Velocidad\n",
    "\n",
    "*V = ((e^2C^2/p^2)sen^2v+(C^2/p^2)(1+cosv)^2)^(1/2) = (C/p)(1+2ecosv+e^2)^(1/2)*\n",
    "\n",
    "- Movimiento elíptico\n",
    "\n",
    "*Periastro* -> rp = p/1+e  // *Apoastro*  -> ra = p/1-e\n",
    "\n",
    "Las relaciones finales son:\n",
    "\n",
    "*n^2a^3 = GM*\n",
    "\n",
    "*a^3/T^2 = GM/4pi^2 (Tercera ley de Kepler)*\n",
    "\n",
    "- Ley del movimiento elíptico: ecuación de Kepler\n",
    "\n",
    "*v-esenv = (2pi/T)(T-To) = n(t-to) = M*\n",
    "\n",
    "- Movimiento aparente del sol\n",
    "\n",
    "*TSlocal-Hm = alpham = (omega-nto)+nt*"
   ]
  },
  {
   "cell_type": "markdown",
   "metadata": {},
   "source": [
    "**SUPERNOVA**"
   ]
  },
  {
   "cell_type": "markdown",
   "metadata": {},
   "source": [
    "- Centro de masa de la explosión\n",
    "\n",
    "*(qm1r1+m2r2)/(qm1+m2)*\n",
    "\n",
    "- Energía cinética de la explosión binaria\n",
    "\n",
    "*E = 0,5qm1v1^2+0,5m2^2-0,5(qm1+m2)^R(2)-G(qm1m2)/ao*\n",
    "\n",
    "- Velocidad de la preexplosión binaria\n",
    "\n",
    "*v^2 = G(m1+m2)/ao*\n",
    "\n",
    "- Energía de la preexplosión\n",
    "\n",
    "*E = 0,5mv^2(q(m1-m2-2qm1)/(8qm1)+m2)*"
   ]
  }
 ],
 "metadata": {
  "kernelspec": {
   "display_name": "Python 3",
   "language": "python",
   "name": "python3"
  },
  "language_info": {
   "codemirror_mode": {
    "name": "ipython",
    "version": 3
   },
   "file_extension": ".py",
   "mimetype": "text/x-python",
   "name": "python",
   "nbconvert_exporter": "python",
   "pygments_lexer": "ipython3",
   "version": "3.6.4"
  }
 },
 "nbformat": 4,
 "nbformat_minor": 2
}
