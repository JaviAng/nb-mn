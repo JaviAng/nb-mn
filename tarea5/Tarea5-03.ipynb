{
 "cells": [
  {
   "cell_type": "markdown",
   "metadata": {},
   "source": [
    "# Ecuaciones Mecanica Celeste"
   ]
  },
  {
   "cell_type": "markdown",
   "metadata": {},
   "source": [
    "Una explosión de supernova en un sistema binario se presenta como una aplicación de la mecánica clásica. Las suposiciones realistas de que el sistema binario original era circular, la pérdida de masa instantánea y el compañero no afectado por la materia expulsada permiten una determinación analítica simple del binario posterior a la explosión.\n",
    "\n",
    "1.La posición del centro de masa luego de la explosión es\n",
    "\n",
    "R=([qm1r1+m2r2])/(qm1+m2)"
   ]
  },
  {
   "cell_type": "markdown",
   "metadata": {},
   "source": [
    "2.Luego la energía total del movimiento relativo a la explosión es\n",
    "\n",
    "E=(1/2(qm1)v1^2)+(1/2(m2)^2(v2)^2)-(1/2(qm1+m2)R^2)-(Gqm1m2/a0)"
   ]
  },
  {
   "cell_type": "markdown",
   "metadata": {},
   "source": [
    "3.La energía total posterior a la explosión se reduce a:\n",
    "\n",
    "E=1/2m(v)^2(q(m1-m2-2qm1)/((qm1+m2)))"
   ]
  },
  {
   "cell_type": "markdown",
   "metadata": {},
   "source": [
    "4.El criterio Blaauw:\n",
    "\n",
    "(G(m1+m2))/a0 = v^2>v^2esc=(2G(qm1+m2))/a0 "
   ]
  },
  {
   "cell_type": "markdown",
   "metadata": {},
   "source": [
    "5.El momento angular del centro de masa es:\n",
    "\n",
    "I'=I0(q(m1+m2))/((qm1+m2)) ≡ I0f1(m1,m2,q)"
   ]
  },
  {
   "cell_type": "markdown",
   "metadata": {},
   "source": [
    "6.la órbita inicial es circular esta dada por:\n",
    "\n",
    "a0 = I0^2/mk"
   ]
  },
  {
   "cell_type": "markdown",
   "metadata": {},
   "source": [
    "6.Ecuación de Kepler:\n",
    "\n",
    "v-esenv = (2pi/T)(T-T0) = n(t-t0) = M"
   ]
  },
  {
   "cell_type": "markdown",
   "metadata": {},
   "source": [
    "7.La velocidad del centro de masa después de la explosión se puede obtener con:\n",
    "\n",
    "Vcm=((1-q)m2*v2)/((qm1+m2))\n",
    "\n",
    "8.El centro de masa se mueve en la dirección de movimiento de la estrella sin explotar con la velocidad:\n",
    "\n",
    "Vcm = m(1-q)/((qm1+m2))((G(m1+m2))/a0)^(1/2)"
   ]
  },
  {
   "cell_type": "markdown",
   "metadata": {},
   "source": [
    "9.La velocidad relativa mínima del binario:\n",
    "\n",
    "vminimo = (((1-e))/(1+e)^(1/2))*v"
   ]
  },
  {
   "cell_type": "markdown",
   "metadata": {},
   "source": [
    "10.Las ecuaciones del movimiento son:\n",
    "\n",
    "d/dt(dx1/dt)=(Gm2/r^2)cosθ y d/dt(dx1/dt)=(Gm2/r^2)senθ "
   ]
  },
  {
   "cell_type": "markdown",
   "metadata": {},
   "source": [
    "11.Radio vector\n",
    "\n",
    "r=[p/(1+ecosv)]"
   ]
  }
 ],
 "metadata": {
  "kernelspec": {
   "display_name": "Python 3",
   "language": "python",
   "name": "python3"
  },
  "language_info": {
   "codemirror_mode": {
    "name": "ipython",
    "version": 3
   },
   "file_extension": ".py",
   "mimetype": "text/x-python",
   "name": "python",
   "nbconvert_exporter": "python",
   "pygments_lexer": "ipython3",
   "version": "3.6.4"
  }
 },
 "nbformat": 4,
 "nbformat_minor": 2
}
