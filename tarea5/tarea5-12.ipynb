{
 "cells": [
  {
   "cell_type": "markdown",
   "metadata": {},
   "source": [
    "##                           Tarea 5 ecuaciones del documento mecanica celeste\n",
    "### Integrante del grupo \n",
    "#### Jose David Ramos Rios \n",
    "#### incluimos ecuaciones que posterior seran utilizadas en la solucion del problema sistema binario supernova.\n"
   ]
  },
  {
   "cell_type": "markdown",
   "metadata": {},
   "source": [
    "## Tabla de parametros\n",
    "| excentricidad | e = 0.617155 ± 0.000007 |\n",
    "|------|------|\n",
    "|   periodo orbital  | T = 27,906,98172  ± 0.00005 s|\n",
    "|Proyeccion de semimajor|a1 sin i = 2.3424  ± 0.0007 lights|\n",
    "|axis of pulsar  = |  (7.0223  ± 0.002)x10 exp 10 cm |\n",
    "|tasa de avance de periastron|w = 4.226 ± 0.002 yr -1|\n",
    "|seno de angulo de inclinacion|sin i = 0.81 ± 0.16|\n",
    "|masa funcion |f = 0.13126 +- 0.00002 M|\n"
   ]
  },
  {
   "cell_type": "markdown",
   "metadata": {},
   "source": [
    "### centro de masa de la explosion \n",
    "\\begin{equation}\n",
    "\\frac{(qm1)*r1+(m2r2)}{q(m1) + m2 } \n",
    "\\end{equation}\n",
    "### energia cinetica de la explosion binaria\n",
    "\\begin{equation}\n",
    "E = \\ 0.5(qm1)v1^{2}+0.5 m2^{2} -0.5(qm1+m2)^R2-G(qm1)m2 /a0\n",
    "\\end{equation}\n",
    "### velocidad de la preexplosion binaria\n",
    "\\begin{equation}\n",
    "v^2 = \\ G(m1+m2)/a0 \n",
    "\\end{equation}\n",
    "### energia de la preexplosion\n",
    "\\begin{equation}\n",
    "E = \\ 0.5 mv^2[q(m1-m2-2qm1)/8qm1+m2)]\n",
    "\\end{equation}"
   ]
  },
  {
   "cell_type": "code",
   "execution_count": 11,
   "metadata": {
    "scrolled": true
   },
   "outputs": [
    {
     "data": {
      "text/html": [
       "<img src=\"https://i.stack.imgur.com/jcFfG.png\" width=\"550\" height=\"550\"/>"
      ],
      "text/plain": [
       "<IPython.core.display.Image object>"
      ]
     },
     "execution_count": 11,
     "metadata": {},
     "output_type": "execute_result"
    }
   ],
   "source": [
    "from IPython.display import Image\n",
    "from IPython.core.display import HTML \n",
    "Image(url= \"https://i.stack.imgur.com/jcFfG.png\", width=550, height=550)"
   ]
  },
  {
   "cell_type": "code",
   "execution_count": null,
   "metadata": {},
   "outputs": [],
   "source": []
  }
 ],
 "metadata": {
  "kernelspec": {
   "display_name": "Python 2",
   "language": "python",
   "name": "python2"
  },
  "language_info": {
   "codemirror_mode": {
    "name": "ipython",
    "version": 2
   },
   "file_extension": ".py",
   "mimetype": "text/x-python",
   "name": "python",
   "nbconvert_exporter": "python",
   "pygments_lexer": "ipython2",
   "version": "2.7.14"
  }
 },
 "nbformat": 4,
 "nbformat_minor": 2
}
