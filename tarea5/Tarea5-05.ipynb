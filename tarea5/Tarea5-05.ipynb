{
 "cells": [
  {
   "cell_type": "markdown",
   "metadata": {},
   "source": [
    "# Mecanica celeste\n"
   ]
  },
  {
   "cell_type": "markdown",
   "metadata": {},
   "source": [
    "Leonardo cardona 161003608\n",
    "Juan Velez 161003641"
   ]
  },
  {
   "cell_type": "markdown",
   "metadata": {},
   "source": [
    "### Exentricidad\n",
    "$e = 0.617155 ± 0.000007$\n"
   ]
  },
  {
   "cell_type": "markdown",
   "metadata": {},
   "source": [
    "### Periodo orbital \n"
   ]
  },
  {
   "cell_type": "markdown",
   "metadata": {},
   "source": [
    "$T= 27,906,98172 ± 0.00005$\n"
   ]
  },
  {
   "cell_type": "markdown",
   "metadata": {},
   "source": [
    "### Proyección del eje semi mayor del pulsar"
   ]
  },
  {
   "cell_type": "markdown",
   "metadata": {},
   "source": [
    "$a1 sin i = 2.3424  ± 0.0007 lights =   (7.0223  ± 0.002)x10^{10} cm$\n"
   ]
  },
  {
   "cell_type": "markdown",
   "metadata": {},
   "source": [
    "### Tasa de avance de periastron"
   ]
  },
  {
   "cell_type": "markdown",
   "metadata": {},
   "source": [
    "$w = 4.226 ± 0.002 yr ^-1$"
   ]
  },
  {
   "cell_type": "markdown",
   "metadata": {},
   "source": [
    "### Seno de ángulo de inclinación\n"
   ]
  },
  {
   "cell_type": "markdown",
   "metadata": {},
   "source": [
    "$sin i = 0.81 ± 0.16$"
   ]
  },
  {
   "cell_type": "markdown",
   "metadata": {},
   "source": [
    "### Funcion de masa"
   ]
  },
  {
   "cell_type": "markdown",
   "metadata": {},
   "source": [
    "$f = 0.13126 +- 0.00002 M_o$"
   ]
  },
  {
   "cell_type": "markdown",
   "metadata": {},
   "source": [
    "### Centro de masa de la explosion "
   ]
  },
  {
   "cell_type": "markdown",
   "metadata": {},
   "source": [
    "\\begin{equation*}\n",
    "R =\n",
    "\\frac{(qm_1)r_1 + m_2r_2}{(qm_1 + m_2)}\n",
    "\\end{equation*}\n"
   ]
  },
  {
   "cell_type": "markdown",
   "metadata": {},
   "source": [
    "### Energia cinetica de la explosion binaria"
   ]
  },
  {
   "cell_type": "markdown",
   "metadata": {},
   "source": [
    "\\begin{equation*}\n",
    "E =\n",
    "\\frac{1}{2}mv^2\n",
    "\\frac{(q(m_1-m_2-2qm_1)}{(qm_1 + m_2)}\n",
    "\\end{equation*}\n"
   ]
  },
  {
   "cell_type": "markdown",
   "metadata": {},
   "source": [
    "### La energía total del movimiento relativo del sistema binario posterior a la explosión es:\n"
   ]
  },
  {
   "cell_type": "markdown",
   "metadata": {},
   "source": [
    "\\begin{equation*}\n",
    "E =\n",
    "\\frac{1}{2}\n",
    "\\frac{qm_1r_1m_2}{(qm_1 + m_2)} v^2 -\n",
    "\\frac{Gqm_1m_2}{a_0}\n",
    "\\end{equation*}\n"
   ]
  },
  {
   "cell_type": "markdown",
   "metadata": {},
   "source": [
    "### Energía cinetica para el movimiento relativo de la post explosión binaria"
   ]
  },
  {
   "cell_type": "markdown",
   "metadata": {},
   "source": [
    "\\begin{equation*}\n",
    "E =\n",
    "\\frac{1}{2}(qm_1)v_1^2 + \n",
    "\\frac{1}{2}(m_2v_2^2)- \n",
    "\\frac{1}{2}(qm_1 + m_2)R^2- G(qm_1)\n",
    "\\frac{m_2}{a_0}\n",
    "\\end{equation*}"
   ]
  },
  {
   "cell_type": "markdown",
   "metadata": {},
   "source": [
    "### Velocidad relativa del binario previo a la explosión\n"
   ]
  },
  {
   "cell_type": "markdown",
   "metadata": {},
   "source": [
    "\\begin{equation*}\n",
    "v^2 = \n",
    "\\frac{G(m_1 + m_2}{a_0}\n",
    "\\end{equation*}"
   ]
  },
  {
   "cell_type": "markdown",
   "metadata": {},
   "source": [
    "### La energía total del binario posterior a la explosión se puede reducir a\n"
   ]
  },
  {
   "cell_type": "markdown",
   "metadata": {},
   "source": [
    "\\begin{equation*}\n",
    "E =\n",
    "\\frac{1}{2}\n",
    "\\frac{mv^2[q(m_1 - m_2 - 2qm_1)]}{qm_1 + m_2}\n",
    "\\end{equation*}"
   ]
  },
  {
   "cell_type": "markdown",
   "metadata": {},
   "source": [
    "### El criterio Blaauw \n",
    "la velocidad relativa antes de la explosión sea mayor que el cuadrado de la velocidad de escape después de la explosión"
   ]
  },
  {
   "cell_type": "markdown",
   "metadata": {},
   "source": [
    "$ G(m_1 + m_2)/a_0 = v^2 > v_{esc}^2 = 2 G(qm_1 + m_2)/a_0$"
   ]
  },
  {
   "cell_type": "markdown",
   "metadata": {},
   "source": [
    "El semieje mayor eje a del binario post-explosión, relacionado con la energía total sobre el centro de masa por"
   ]
  },
  {
   "cell_type": "markdown",
   "metadata": {},
   "source": [
    "$E = ±G(qm_1m_2)/2a$"
   ]
  },
  {
   "cell_type": "markdown",
   "metadata": {},
   "source": [
    "El momento angular I 'del binario final alrededor de 0' se puede simplificar a\n"
   ]
  },
  {
   "cell_type": "markdown",
   "metadata": {},
   "source": [
    "\\begin{equation*}\n",
    "I' = i_0\n",
    "\\frac{q(m_1 +m_2}{qm_1 + m_2} = \n",
    "i_0f_1(m_1.m_2.q)\n",
    "\\end{equation*}"
   ]
  },
  {
   "cell_type": "markdown",
   "metadata": {},
   "source": [
    "donde I0 = r X p es el momento angular del binario original alrededor de 0"
   ]
  },
  {
   "cell_type": "markdown",
   "metadata": {},
   "source": [
    "### Velocidad despues de la explosion"
   ]
  },
  {
   "cell_type": "markdown",
   "metadata": {},
   "source": [
    "La velocidad de el centro de masa despues de la explosion"
   ]
  },
  {
   "cell_type": "markdown",
   "metadata": {},
   "source": [
    "\\begin{equation*}\n",
    "V_{cm} =\n",
    "\\frac{(1-q)m_2v_2}{qm_1 + m_2} \n",
    "\\end{equation*}"
   ]
  },
  {
   "cell_type": "markdown",
   "metadata": {},
   "source": [
    "\\begin{equation*}\n",
    "V_{cm} =\n",
    "\\frac{m(1-q)}{(qm_1 + m_2)}\n",
    "\\frac{G(m_1+m_2)}{a_0}^{1/2}\n",
    "\\end{equation*}"
   ]
  },
  {
   "cell_type": "markdown",
   "metadata": {},
   "source": [
    "La velocidad relativa de dos componentes de un binario sin consolidar"
   ]
  },
  {
   "cell_type": "markdown",
   "metadata": {},
   "source": [
    "\\begin{equation*}\n",
    "V=\n",
    "\\frac{G(m_1 - m_2 - 2qm_1}{a_0}^{1/2} =\n",
    "\\frac{e-1}{e+1}^{1/2}\n",
    "\\end{equation*}"
   ]
  },
  {
   "cell_type": "markdown",
   "metadata": {},
   "source": [
    "Velocidad minima relativa de un binario consolidado"
   ]
  },
  {
   "cell_type": "markdown",
   "metadata": {},
   "source": [
    "\\begin{equation*}\n",
    "V{min}=[\n",
    "\\frac{(1-e)}{(1+e)^{1/2}} ]v\n",
    "\\end{equation*}"
   ]
  },
  {
   "cell_type": "markdown",
   "metadata": {},
   "source": [
    "### Las ecuaciones de movimiento"
   ]
  },
  {
   "cell_type": "markdown",
   "metadata": {},
   "source": [
    "\\begin{equation*}\n",
    "\\frac{d}{dt} \n",
    "\\frac{dx_1}{dt} =\n",
    "\\frac{Gm_2}{r^2}cos0\n",
    "\\end{equation*}"
   ]
  },
  {
   "cell_type": "markdown",
   "metadata": {},
   "source": [
    "\\begin{equation*}\n",
    "\\frac{d}{dt} \n",
    "\\frac{dy_1}{dt} =\n",
    "\\frac{Gm_2}{r^2}sen0\n",
    "\\end{equation*}"
   ]
  }
 ],
 "metadata": {
  "kernelspec": {
   "display_name": "Python 3",
   "language": "python",
   "name": "python3"
  },
  "language_info": {
   "codemirror_mode": {
    "name": "ipython",
    "version": 3
   },
   "file_extension": ".py",
   "mimetype": "text/x-python",
   "name": "python",
   "nbconvert_exporter": "python",
   "pygments_lexer": "ipython3",
   "version": "3.6.4"
  }
 },
 "nbformat": 4,
 "nbformat_minor": 2
}
