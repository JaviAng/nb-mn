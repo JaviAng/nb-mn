{
 "cells": [
  {
   "cell_type": "markdown",
   "metadata": {},
   "source": [
    "$excentricidad$\n",
    "\n",
    "e = 0.617155 ± 0.000007\n",
    "\n",
    "$periodo orbital$\n",
    "\n",
    "T = 27,906,98172  ± 0.00005 s\n",
    "\n",
    "$Proyeccion de semimajor$\n",
    "\n",
    "a1sini = 2.3424  ± 0.0007 lights\n",
    "\n",
    "axis of pulsar  = (7.0223  ± 0.002)x10 exp 10 cm \n",
    "\n",
    "$tasa de avance de periastron$\n",
    "\n",
    "w = 4.226 ± 0.002 yr -1\n",
    "\n",
    "$seno de ángulo de inclinación$\n",
    "\n",
    "sini = 0.81 ± 0.16\n",
    "\n",
    "mass function\n",
    "\n",
    "f = 0.13126 +- 0.00002 M\n",
    "\n",
    "R = [(qm1)r1 + m2r2 ]/(qm1+m2)\n",
    "\n",
    "E = 0.5(qm1)v1**2+0.5 m2v2**2-0.5(qm1+m2)R**2-G(qm1)m2/a0\n",
    "\n",
    "v**2 = G(m1+m2)/a0 \n",
    "\n",
    "E = (0.5)mv**2[q(m1-m2-2qm1)/8qm1+m2)]\n",
    "\n",
    "q < (1/2)(1-m2/m1)\n",
    "\n",
    "(m1-qm1)>(qm1+m2)\n",
    "\n",
    "e =80.5)(qm1m2/qm1+mw)v2 - (Gqm1m2/a0)\n",
    "\n",
    "E = ±G(qm1m2)/2a\n",
    "\n",
    "±G(qm1)m2/2a) = Gm1m2q(m1-m2-2qm1)/2a0(qm1+m2)\n",
    "\n",
    "a/a0 = ±(qm1+m2)/(m1-m2-2qm1) = fE(m1,m2,1).\n",
    "\n",
    "\n",
    "1 = qr1*p1+r2*p2\n",
    "\n",
    "\n",
    "CONTINUAR PAGINA 3\n"
   ]
  }
 ],
 "metadata": {
  "kernelspec": {
   "display_name": "Python 3",
   "language": "python",
   "name": "python3"
  },
  "language_info": {
   "codemirror_mode": {
    "name": "ipython",
    "version": 3
   },
   "file_extension": ".py",
   "mimetype": "text/x-python",
   "name": "python",
   "nbconvert_exporter": "python",
   "pygments_lexer": "ipython3",
   "version": "3.6.4"
  }
 },
 "nbformat": 4,
 "nbformat_minor": 2
}
