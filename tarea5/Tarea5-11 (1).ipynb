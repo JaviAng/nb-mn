{
 "cells": [
  {
   "cell_type": "markdown",
   "metadata": {},
   "source": [
    "# MECANICA CELESTE\n",
    "Jessica Gutierez - Juan Celeita 161003518-161003508. Extraer las ecuaciones del documento mecanica celeste."
   ]
  },
  {
   "cell_type": "markdown",
   "metadata": {},
   "source": [
    "PARAMETROS DEL PSR B1913+16:\n",
    "\n",
    "Excentricidad --> e = 0.617155 ± 0.000007\n",
    "\n",
    "Periodo orbital\t--> T = 27,906,98172 ± 0.00005 s\n",
    "\n",
    "proyección del eje semi mayor del pulsar --> a1sini = 2.3424 ± 0.0007 lights = (7.0223 ± 0.002)x10^10 cm\n",
    "\n",
    "tasa de avance de periastron --> w = 4.226 ± 0.002 yr-1\n",
    "\n",
    "seno de ángulo de inclinación --> sini = 0.81 ± 0.16\n",
    "\n",
    "función de masa --> f = 0.13126 +- 0.00002 M\n"
   ]
  },
  {
   "cell_type": "markdown",
   "metadata": {},
   "source": [
    "La posición de un nuevo centro de masa, después de la explosión viene dada por:\n",
    "\n",
    "                                                     R=([(qm1)r1+m2r2])/((qm1+m2))\n",
    "\n",
    "donde qm, es la masa restante después de la explosión de mi."
   ]
  },
  {
   "cell_type": "markdown",
   "metadata": {},
   "source": [
    "La energía total del movimiento relativo del sistema binario posterior a la explosión es:\n",
    "\n",
    "                                  E=[1/2(qm1)v1^2]+[1/2(m2)^2(v2)^2]-[1/2(qm1+m2)R^2]-[G(qm1)m2/a0]"
   ]
  },
  {
   "cell_type": "markdown",
   "metadata": {},
   "source": [
    "Se relaciona con la velocidad relativa del binario previo a la explosión por:\n",
    "\n",
    "                                                          v^2=(G(m1+m2))/a0 "
   ]
  },
  {
   "cell_type": "markdown",
   "metadata": {},
   "source": [
    "La energía total del binario posterior a la explosión se puede reducir a:\n",
    "\n",
    "                                                E=1/2m(v)^2[q(m1-m2-2qm1)/((qm1+m2))]"
   ]
  },
  {
   "cell_type": "markdown",
   "metadata": {},
   "source": [
    "EL CRITERIO DE BLAAUW\n",
    "\n",
    "establece que para que el sistema se desate, la pérdida de masa debe ser mayor que la masa restante en el binario, luego:\n",
    "\n",
    "                                                        (m1-qm1)>(qm1+m2)"
   ]
  },
  {
   "cell_type": "markdown",
   "metadata": {},
   "source": [
    "El criterio Blaauw puede derivarse más fácilmente al requerir que el cuadrado de la \n",
    "velocidad relativa antes de la explosión sea mayor que el cuadrado de la velocidad de \n",
    "escape después de la explosión:\n",
    "    \n",
    "                                         (G(m1+m2))/a0 = v^2>v^2esc=(2G(qm1+m2))/a0 "
   ]
  },
  {
   "cell_type": "markdown",
   "metadata": {},
   "source": [
    "El momento angular del binario final alrededor del centro de masa esta dado por:\n",
    "\n",
    "                                         I´=I0(q(m1+m2))/((qm1+m2)) ≡ I0f1(m1,m2,q)"
   ]
  },
  {
   "cell_type": "markdown",
   "metadata": {},
   "source": [
    "La excentricidad de la órbita final se da\n",
    "\n",
    "                                                   ±a(1-e^2) = I´^2/(m´k´)"
   ]
  },
  {
   "cell_type": "markdown",
   "metadata": {},
   "source": [
    "Luego, Si la órbita inicial es circular esta dada por: \n",
    "    \n",
    "                                                         a0 = I0^2/mk\n",
    "\n",
    "donde m es la masa reducida del binario original y k = (G m1 m2). "
   ]
  },
  {
   "cell_type": "markdown",
   "metadata": {},
   "source": [
    "Para un valor dado de (m1/m2) y la excentricidad de la órbita final, solo hay un valor permitido de q dado por:\n",
    "\n",
    "                                                   q= 1/(1+e)[1-e/(m1/m2)]"
   ]
  },
  {
   "cell_type": "markdown",
   "metadata": {},
   "source": [
    "La velocidad regional del binario original:\n",
    "\n",
    "                                               dA0/dt = 1/2(r0)^2(θ0) = i0/2m"
   ]
  },
  {
   "cell_type": "markdown",
   "metadata": {},
   "source": [
    "La velocidad del centro de masa después de la explosión se puede obtener con:\n",
    "\n",
    "                                                Vcm=((1-q)m2*v2)/((qm1+m2))"
   ]
  },
  {
   "cell_type": "markdown",
   "metadata": {},
   "source": [
    "El centro de masa se mueve en la dirección de movimiento de la estrella sin explotar con la velocidad:\n",
    "\n",
    "                                         Vcm = m(1-q)/((qm1+m2))((G(m1+m2))/a0)^(1/2)"
   ]
  },
  {
   "cell_type": "markdown",
   "metadata": {},
   "source": [
    "La velocidad relativa mínima del binario:\n",
    "\n",
    "                                                Vmin=[((1-e))/(1+e)^(1/2)]v"
   ]
  },
  {
   "cell_type": "markdown",
   "metadata": {},
   "source": [
    "Las ecuaciones del movimiento son:\n",
    "\n",
    "                                              d/dt(dx1/dt)=(Gm2/r^2)cosθ  \n",
    "\n",
    "                                              d/dt(dy1/dt)=(Gm2/r^2)sinθ "
   ]
  },
  {
   "cell_type": "markdown",
   "metadata": {},
   "source": [
    "El ángulo subtendido por el dos cuerpos se obtiene con:\n",
    "\n",
    "                                       |w2-w1|=v∞ :\n",
    "\n",
    "                                       cosφ=v1/[v1^2+v∞^2]^(1/2) =m2/[m1^2-2qm1(m1+m2)]^(1/2) "
   ]
  },
  {
   "cell_type": "markdown",
   "metadata": {},
   "source": [
    "Ecuación de Kepler:\n",
    "\n",
    "                                              v-esenv=(2pi/T)(T-T0)=n(t-t0)=M"
   ]
  }
 ],
 "metadata": {
  "kernelspec": {
   "display_name": "Python 3",
   "language": "python",
   "name": "python3"
  },
  "language_info": {
   "codemirror_mode": {
    "name": "ipython",
    "version": 3
   },
   "file_extension": ".py",
   "mimetype": "text/x-python",
   "name": "python",
   "nbconvert_exporter": "python",
   "pygments_lexer": "ipython3",
   "version": "3.6.3"
  }
 },
 "nbformat": 4,
 "nbformat_minor": 2
}
