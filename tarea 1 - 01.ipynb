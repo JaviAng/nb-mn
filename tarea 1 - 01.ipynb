#Sebastián Correa
#Cesar Galindo
numero = int(input('Introduce el número: '))

#Bit del signo

if numero < 0:
    BIN32[0] = 1
    numero = numero * -1.0
else:
    BIN32[0] = 0
        
#Separar parte interna y parte decimal 

parte_entera = int(x)
parte_decimal = abs(x) - abs(int(x))

#Convertir entero a binario

def binarizar(decimal):
    binario = ''
    while decimal // 2 != 0:
        binario = str(decimal % 2) + binario
        decimal = decimal // 2
    return str(decimal) + binario
print(binarizar(parte_entera))

#Convertir decimal a binario

    for a in range(38):
        parte_decimal = parte_decimal * 2
        if parte_decimal >= 1.0:
            num[32 + a] = 1
        parte_decimal = parte_decimal % 1
