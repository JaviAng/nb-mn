{
 "cells": [
  {
   "cell_type": "markdown",
   "metadata": {},
   "source": [
    "# Métodos Numéricos"
   ]
  },
  {
   "cell_type": "markdown",
   "metadata": {},
   "source": [
    "## Contenido"
   ]
  },
  {
   "cell_type": "markdown",
   "metadata": {},
   "source": [
    "* [01 - Representación](01-representacion.ipynb)\n",
    "* [02 - Series de Taylor](02-taylor.ipynb)\n",
    "* [03 - Método de bisección](03-biseccion.ipynb)\n",
    "* [04 - Mínimos cuadrados](04-min-cuadrados.ipynb)\n",
    "* [05 - Splines](05-splines.ipynb)\n",
    "* [06 - Método del trapecio](06-trapecio.ipynb)\n",
    "* [07 - Diferenciación](07-diferenciacion.ipynb)\n",
    "* [08 - Jacobi-Gauss](08-jacobi-gauss.ipynb)\n"
   ]
  },
  {
   "cell_type": "code",
   "execution_count": null,
   "metadata": {},
   "outputs": [],
   "source": []
  }
 ],
 "metadata": {
  "kernelspec": {
   "display_name": "Python 2",
   "language": "python",
   "name": "python2"
  },
  "language_info": {
   "codemirror_mode": {
    "name": "ipython",
    "version": 2
   },
   "file_extension": ".py",
   "mimetype": "text/x-python",
   "name": "python",
   "nbconvert_exporter": "python",
   "pygments_lexer": "ipython2",
   "version": "2.7.10"
  }
 },
 "nbformat": 4,
 "nbformat_minor": 2
}
