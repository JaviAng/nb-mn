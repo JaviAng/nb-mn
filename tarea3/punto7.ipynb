{
 "cells": [
  {
   "cell_type": "code",
   "execution_count": 1,
   "metadata": {
    "scrolled": false
   },
   "outputs": [
    {
     "name": "stdout",
     "output_type": "stream",
     "text": [
      "0.000000 1.000000 2.000000\n",
      "1.000000 1.500000 2.000000\n",
      "1.500000 1.750000 2.000000\n",
      "1.750000 1.875000 2.000000\n",
      "1.875000 1.937500 2.000000\n",
      "1.937500 1.968750 2.000000\n",
      "1.968750 1.984375 2.000000\n",
      "1.984375 1.992188 2.000000\n",
      "1.992188 1.996094 2.000000\n",
      "1.996094 1.998047 2.000000\n",
      "La raiz aprox. es: \n",
      "1.9990234375\n"
     ]
    },
    {
     "data": {
      "image/png": "[encoded data removed]",
      "text/plain": [
       "<Figure size 432x288 with 1 Axes>"
      ]
     },
     "metadata": {},
     "output_type": "display_data"
    }
   ],
   "source": [
    "def f(x):\n",
    "    return (np.exp(x**3 + 2*x**2 + x**1 + 1))\n",
    "\n",
    "tolerancia = 0.001\n",
    "\n",
    "%matplotlib inline\n",
    "import numpy as np\n",
    "import matplotlib.pyplot as plt\n",
    "\n",
    "puntos = int(round(1/tolerancia))\n",
    "x = np.linspace(-5, 5, puntos)\n",
    "y = f(x)\n",
    "\n",
    "plt.plot(x, y, lw=1)\n",
    "plt.grid(True, linestyle='-.')\n",
    "\n",
    "\n",
    "a = 0\n",
    "b =2\n",
    "c = (a + b) / 2.0\n",
    "\n",
    "while (b - a) / 2.0 > tolerancia:\n",
    "    print (\"{:f} {:f} {:f}\".format(a, c, b))\n",
    "    if f(c) == 0:\n",
    "        break\n",
    "    elif f(a) * f(c) < 0:\n",
    "        b = c\n",
    "    else:\n",
    "        a = c\n",
    "    c = (a + b) / 2.0\n",
    "\n",
    "\n",
    "print(\"La raiz aprox. es: \")\n",
    "print(c)\n",
    "\n",
    "#no tiene ninguna raiz"
   ]
  },
  {
   "cell_type": "code",
   "execution_count": null,
   "metadata": {},
   "outputs": [],
   "source": []
  }
 ],
 "metadata": {
  "kernelspec": {
   "display_name": "Python 3",
   "language": "python",
   "name": "python3"
  },
  "language_info": {
   "codemirror_mode": {
    "name": "ipython",
    "version": 3
   },
   "file_extension": ".py",
   "mimetype": "text/x-python",
   "name": "python",
   "nbconvert_exporter": "python",
   "pygments_lexer": "ipython3",
   "version": "3.6.4"
  }
 },
 "nbformat": 4,
 "nbformat_minor": 2
}
