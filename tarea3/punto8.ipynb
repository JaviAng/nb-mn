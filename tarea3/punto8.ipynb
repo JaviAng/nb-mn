{
 "cells": [
  {
   "cell_type": "code",
   "execution_count": 5,
   "metadata": {
    "scrolled": false
   },
   "outputs": [
    {
     "name": "stdout",
     "output_type": "stream",
     "text": [
      "0.000000 2.000000 4.000000\n",
      "0.000000 1.000000 2.000000\n",
      "0.000000 0.500000 1.000000\n",
      "0.500000 0.750000 1.000000\n",
      "0.750000 0.875000 1.000000\n",
      "0.750000 0.812500 0.875000\n",
      "0.750000 0.781250 0.812500\n",
      "0.750000 0.765625 0.781250\n",
      "0.750000 0.757812 0.765625\n",
      "0.750000 0.753906 0.757812\n",
      "0.753906 0.755859 0.757812\n",
      "La raiz aprox. es: \n",
      "0.7548828125\n"
     ]
    },
    {
     "name": "stderr",
     "output_type": "stream",
     "text": [
      "/srv/conda/lib/python3.6/site-packages/ipykernel_launcher.py:2: RuntimeWarning: invalid value encountered in log\n",
      "  \n",
      "/srv/conda/lib/python3.6/site-packages/ipykernel_launcher.py:2: RuntimeWarning: divide by zero encountered in log\n",
      "  \n"
     ]
    },
    {
     "data": {
      "image/png": "[encoded data removed]",
      "text/plain": [
       "<Figure size 432x288 with 1 Axes>"
      ]
     },
     "metadata": {},
     "output_type": "display_data"
    }
   ],
   "source": [
    "def f(x):\n",
    "    return ( np.log(x)+((1)/(x**2 - 5)*(x - 2)) )\n",
    "\n",
    "tolerancia = 0.001\n",
    "\n",
    "%matplotlib inline\n",
    "import numpy as np\n",
    "import matplotlib.pyplot as plt\n",
    "\n",
    "puntos = int(round(1/tolerancia))\n",
    "x = np.linspace(-5, 5, puntos)\n",
    "y = f(x)\n",
    "\n",
    "plt.plot(x, y, lw=1)\n",
    "plt.grid(True, linestyle='-.')\n",
    "\n",
    "\n",
    "a = 0\n",
    "b =4\n",
    "c = (a + b) / 2.0\n",
    "\n",
    "while (b - a) / 2.0 > tolerancia:\n",
    "    print (\"{:f} {:f} {:f}\".format(a, c, b))\n",
    "    if f(c) == 0:\n",
    "        break\n",
    "    elif f(a) * f(c) < 0:\n",
    "        b = c\n",
    "    else:\n",
    "        a = c\n",
    "    c = (a + b) / 2.0\n",
    "\n",
    "\n",
    "print(\"La raiz aprox. es: \")\n",
    "print(c)\n",
    "\n",
    "#el punto 8 tiene raiz en 0.7548828125"
   ]
  },
  {
   "cell_type": "code",
   "execution_count": null,
   "metadata": {},
   "outputs": [],
   "source": []
  }
 ],
 "metadata": {
  "kernelspec": {
   "display_name": "Python 3",
   "language": "python",
   "name": "python3"
  },
  "language_info": {
   "codemirror_mode": {
    "name": "ipython",
    "version": 3
   },
   "file_extension": ".py",
   "mimetype": "text/x-python",
   "name": "python",
   "nbconvert_exporter": "python",
   "pygments_lexer": "ipython3",
   "version": "3.6.4"
  }
 },
 "nbformat": 4,
 "nbformat_minor": 2
}
