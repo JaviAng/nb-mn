{
 "cells": [
  {
   "cell_type": "markdown",
   "metadata": {},
   "source": [
    "Cesar Galindo - 161003313\n",
    "Juan Correa - 161003307"
   ]
  },
  {
   "cell_type": "code",
   "execution_count": 60,
   "metadata": {},
   "outputs": [
    {
     "name": "stdout",
     "output_type": "stream",
     "text": [
      "Ingresar número de la función deseada: 1\n",
      "Ingresar número del limite inferior: -1\n",
      "Ingresar número del limite superior: 1\n",
      "-1.000000 0.000000 1.000000\n",
      "0.000000 0.500000 1.000000\n",
      "0.000000 0.250000 0.500000\n",
      "0.250000 0.375000 0.500000\n",
      "0.250000 0.312500 0.375000\n",
      "0.312500 0.343750 0.375000\n",
      "0.343750 0.359375 0.375000\n",
      "0.359375 0.367188 0.375000\n",
      "0.359375 0.363281 0.367188\n",
      "0.359375 0.361328 0.363281\n",
      "La raiz aprox. es: \n",
      "0.3603515625\n"
     ]
    },
    {
     "data": {
      "image/png": "[encoded data removed]",
      "text/plain": [
       "<matplotlib.figure.Figure at 0x2088432e6a0>"
      ]
     },
     "metadata": {},
     "output_type": "display_data"
    }
   ],
   "source": [
    "funcion = int(input(\"Ingresar número de la función deseada: \"))\n",
    "\n",
    "if(funcion==1):\n",
    "    def f(x):\n",
    "        return 3*x+np.sin(x)-2.718**x\n",
    "if(funcion==2):\n",
    "    def f(x):\n",
    "        return 5/(((x-(1/x))**(1/2)))\n",
    "if(funcion==3):\n",
    "    def f(x):\n",
    "        return 4*x**4+9*x**3-5*x**2+9*x-9\n",
    "if(funcion==4):\n",
    "    def f(x):\n",
    "        return 2.718**(x)+((x)**(1/2))-2\n",
    "if(funcion==5):\n",
    "    def f(x):\n",
    "        return 2*x**3-x**2-8*x+4\n",
    "if(funcion==6):\n",
    "    def f(x):\n",
    "        return 1/((x-2)*(x**2+3*x+1))\n",
    "if(funcion==7):\n",
    "    def f(x):\n",
    "        return 2.718**((x**3)+2*(x**2)+x+1)\n",
    "if(funcion==8):\n",
    "    def f(x):\n",
    "        return (np.log(x))+(1/((x**2)-5)*(x-2))\n",
    "if(funcion==10):\n",
    "    def f(x):\n",
    "        return 4*np.cos(np.log(x))\n",
    "if(funcion==11):\n",
    "    def f(x):\n",
    "        return (x+2)/(5*(x**2)+12*x+14)\n",
    "if(funcion==12):\n",
    "    def f(x):\n",
    "        return 4*x**2+4*x+17\n",
    "if(funcion==13):\n",
    "    def f(x):\n",
    "        return (np.cos(x)+x)/(np.sin(x)+2.718**x)\n",
    "    \n",
    "tolerancia = 0.001\n",
    "\n",
    "%matplotlib inline\n",
    "import numpy as np\n",
    "import matplotlib.pyplot as plt\n",
    "\n",
    "puntos = int(round(1/tolerancia))\n",
    "x = np.linspace(-10, 10, puntos)\n",
    "y = f(x)\n",
    "\n",
    "plt.plot(x, y, lw=1, color='r')\n",
    "plt.grid(True, linestyle='-')\n",
    "\n",
    "a = float(input(\"Ingresar número del limite inferior: \"))\n",
    "b = float(input(\"Ingresar número del limite superior: \"))\n",
    "#a = 1\n",
    "#b = 2\n",
    "c = (a + b) / 2.0\n",
    "\n",
    "while (b - a) / 2.0 > tolerancia:\n",
    "    print (\"{:f} {:f} {:f}\".format(a, c, b))\n",
    "    if f(c) == 0:\n",
    "        break\n",
    "    elif f(a) * f(c) < 0:\n",
    "        b = c\n",
    "    else:\n",
    "        a = c\n",
    "    c = (a + b) / 2.0\n",
    "\n",
    "print(\"La raiz aprox. es: \")\n",
    "print(c)"
   ]
  },
  {
   "cell_type": "code",
   "execution_count": null,
   "metadata": {},
   "outputs": [],
   "source": []
  }
 ],
 "metadata": {
  "kernelspec": {
   "display_name": "Python 3",
   "language": "python",
   "name": "python3"
  },
  "language_info": {
   "codemirror_mode": {
    "name": "ipython",
    "version": 3
   },
   "file_extension": ".py",
   "mimetype": "text/x-python",
   "name": "python",
   "nbconvert_exporter": "python",
   "pygments_lexer": "ipython3",
   "version": "3.6.4"
  }
 },
 "nbformat": 4,
 "nbformat_minor": 2
}
