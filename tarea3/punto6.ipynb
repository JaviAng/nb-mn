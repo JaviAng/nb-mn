{
 "cells": [
  {
   "cell_type": "code",
   "execution_count": 8,
   "metadata": {
    "scrolled": false
   },
   "outputs": [
    {
     "name": "stdout",
     "output_type": "stream",
     "text": [
      "-4.000000 -3.000000 -2.000000\n",
      "-3.000000 -2.500000 -2.000000\n",
      "-3.000000 -2.750000 -2.500000\n",
      "-2.750000 -2.625000 -2.500000\n",
      "-2.625000 -2.562500 -2.500000\n",
      "-2.625000 -2.593750 -2.562500\n",
      "-2.625000 -2.609375 -2.593750\n",
      "-2.625000 -2.617188 -2.609375\n",
      "-2.625000 -2.621094 -2.617188\n",
      "-2.621094 -2.619141 -2.617188\n",
      "La raiz aprox. es: \n",
      "-2.6181640625\n"
     ]
    },
    {
     "data": {
      "image/png": "[encoded data removed]",
      "text/plain": [
       "<Figure size 432x288 with 1 Axes>"
      ]
     },
     "metadata": {},
     "output_type": "display_data"
    }
   ],
   "source": [
    "def f(x):\n",
    "    return ((1)/(( x - 2)*(x**2 + 3*x + 1)))\n",
    "\n",
    "tolerancia = 0.001\n",
    "\n",
    "%matplotlib inline\n",
    "import numpy as np\n",
    "import matplotlib.pyplot as plt\n",
    "\n",
    "puntos = int(round(1/tolerancia))\n",
    "x = np.linspace(-5, 5, puntos)\n",
    "y = f(x)\n",
    "\n",
    "plt.plot(x, y, lw=1)\n",
    "plt.grid(True, linestyle='-.')\n",
    "\n",
    "\n",
    "a = -4\n",
    "b = -2\n",
    "c = (a + b) / 2.0\n",
    "\n",
    "while (b - a) / 2.0 > tolerancia:\n",
    "    print (\"{:f} {:f} {:f}\".format(a, c, b))\n",
    "    if f(c) == 0:\n",
    "        break\n",
    "    elif f(a) * f(c) < 0:\n",
    "        b = c\n",
    "    else:\n",
    "        a = c\n",
    "    c = (a + b) / 2.0\n",
    "\n",
    "\n",
    "print(\"La raiz aprox. es: \")\n",
    "print(c)\n",
    "\n",
    "#el punto 6 tiene raciees en -2.6181640625, -0.3818359375 y 1.9990234375"
   ]
  },
  {
   "cell_type": "code",
   "execution_count": null,
   "metadata": {},
   "outputs": [],
   "source": []
  }
 ],
 "metadata": {
  "kernelspec": {
   "display_name": "Python 3",
   "language": "python",
   "name": "python3"
  },
  "language_info": {
   "codemirror_mode": {
    "name": "ipython",
    "version": 3
   },
   "file_extension": ".py",
   "mimetype": "text/x-python",
   "name": "python",
   "nbconvert_exporter": "python",
   "pygments_lexer": "ipython3",
   "version": "3.6.4"
  }
 },
 "nbformat": 4,
 "nbformat_minor": 2
}
