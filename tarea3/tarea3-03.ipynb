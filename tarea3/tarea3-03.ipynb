{
 "cells": [
  {
   "cell_type": "markdown",
   "metadata": {},
   "source": [
    "## **TAREA NUMERO 3**\n",
    "### **BRAYAN SALDARRIAGA 161003640**\n",
    "### **FELIPE CORAL 161003611**"
   ]
  },
  {
   "cell_type": "markdown",
   "metadata": {},
   "source": [
    "Para el desarrollo de la practica, inicialmente es necesario el uso de la librerias numpy (para el desarrollo matematico) y matplotlib para graficar las funciones\n"
   ]
  },
  {
   "cell_type": "code",
   "execution_count": 2,
   "metadata": {},
   "outputs": [],
   "source": [
    "%matplotlib inline\n",
    "import numpy as np\n",
    "import matplotlib.pyplot as plt\n",
    "from numpy import sin\n",
    "from numpy import cos\n",
    "from numpy import exp"
   ]
  },
  {
   "cell_type": "markdown",
   "metadata": {},
   "source": [
    "definimos las funcines para trabajar minimizando tiempo de ejecucion"
   ]
  },
  {
   "cell_type": "code",
   "execution_count": 3,
   "metadata": {},
   "outputs": [],
   "source": [
    "def funcion1(x):\n",
    "    return (3*x)-sin(x)-exp(x)\n",
    "def funcion2(x):\n",
    "    return 5/(((x-(1/x))**0.5))\n",
    "def funcion3(x):\n",
    "    return (4*(x**4))+(9*(x**3))-(5*(x**2))+(9*x)-9\n",
    "def funcion4(x):\n",
    "    return exp(x)+(x**0.5)-2\n",
    "def funcion5(x):\n",
    "    return (2*(x**3)-(x**2)-(8*x)+4)\n",
    "def funcion6(x):\n",
    "    return 1/((x-2)((x**2)+(3*x)+1))\n",
    "def funcion7(x):\n",
    "    return exp((x**3)+2(x**2)+x+1)\n",
    "def funcion8(x):\n",
    "    return log(x)+(1/(((x**2)-5)(x-2)))\n",
    "def funcion10(x):\n",
    "    return 4*(cos(log(x)))\n",
    "def funcion11(x):\n",
    "    return (x+2)/(5(x**2)+(12*x)+4)\n",
    "def funcion12(x):\n",
    "    return 4(x**2)+(4*x)+17\n",
    "def funcion13(x):\n",
    "    return (cos(x)+x)/(sin(x)+exp(tan(x)))"
   ]
  },
  {
   "cell_type": "markdown",
   "metadata": {},
   "source": [
    "se procede a agregar la tolerancia y los puntos para esta tolerancia. nuestra tolerancia será 0.001"
   ]
  },
  {
   "cell_type": "code",
   "execution_count": 4,
   "metadata": {},
   "outputs": [],
   "source": [
    "puntos = int(round(1/0.001))"
   ]
  },
  {
   "cell_type": "code",
   "execution_count": 5,
   "metadata": {},
   "outputs": [
    {
     "name": "stdout",
     "output_type": "stream",
     "text": [
      "ingrese el numero de la funcion a evaluar\n"
     ]
    }
   ],
   "source": [
    "print(\"ingrese el numero de la funcion a evaluar\")"
   ]
  },
  {
   "cell_type": "code",
   "execution_count": 6,
   "metadata": {},
   "outputs": [
    {
     "name": "stdout",
     "output_type": "stream",
     "text": [
      "1\n"
     ]
    }
   ],
   "source": [
    "opcion= input()\n",
    "opcion = int (opcion)"
   ]
  },
  {
   "cell_type": "code",
   "execution_count": 7,
   "metadata": {},
   "outputs": [],
   "source": [
    "x = np.linspace(2, 5, puntos)"
   ]
  },
  {
   "cell_type": "code",
   "execution_count": 8,
   "metadata": {},
   "outputs": [],
   "source": [
    "if(opcion==1):\n",
    "    y = funcion1(x)\n",
    "elif(opcion==2):\n",
    "    y = funcion2(x)\n",
    "elif(opcion==3):\n",
    "    y = funcion3(x)\n",
    "elif(opcion==4):\n",
    "    y = funcion4(x)\n",
    "elif(opcion==5):\n",
    "    y = funcion5(x)\n",
    "elif(opcion==6):\n",
    "    y = funcion6(x)\n",
    "elif(opcion==7):\n",
    "    y = funcion7(x)\n",
    "elif(opcion==8):\n",
    "    y = funcion8(x)\n",
    "elif(opcion==9):\n",
    "    y = funcion9(x)\n",
    "elif(opcion==10):\n",
    "    y = funcion10(x)\n",
    "elif(opcion==11):\n",
    "    y = funcion11(x)\n",
    "elif(opcion==12):\n",
    "    y = funcion12(x)\n",
    "elif(opcion==13):\n",
    "    y = funcion13(x)"
   ]
  },
  {
   "cell_type": "code",
   "execution_count": 9,
   "metadata": {},
   "outputs": [
    {
     "data": {
      "image/png": "[encoded data removed]",
      "text/plain": [
       "<matplotlib.figure.Figure at 0x7f2476f94048>"
      ]
     },
     "metadata": {},
     "output_type": "display_data"
    }
   ],
   "source": [
    "plt.plot(x, y, lw=2)\n",
    "plt.grid(True, linestyle='-.')"
   ]
  },
  {
   "cell_type": "markdown",
   "metadata": {},
   "source": [
    "### hallando las raices de la funcion"
   ]
  },
  {
   "cell_type": "markdown",
   "metadata": {},
   "source": [
    "funcion 1"
   ]
  },
  {
   "cell_type": "code",
   "execution_count": 10,
   "metadata": {},
   "outputs": [
    {
     "name": "stdout",
     "output_type": "stream",
     "text": [
      "ingrese el numero menor del intervalo 0\n",
      "ingrese el numero mayor del intervalo 10\n",
      "la raiz en el intervalo es: 9.9993896484375\n"
     ]
    }
   ],
   "source": [
    "a=(float(input(\"ingrese el numero menor del intervalo \")))\n",
    "b=(float(input(\"ingrese el numero mayor del intervalo \")))   \n",
    "c=(a+b)/2\n",
    "while (b-a)/2 > 0.001:\n",
    "    if funcion1(c) == 0:\n",
    "        break\n",
    "    elif funcion1(a)*funcion1(c) < 0:\n",
    "        b = c\n",
    "    else:\n",
    "        a = c\n",
    "    c = (a + b) / 2  \n",
    "print(\"la raiz en el intervalo es:\",c)"
   ]
  },
  {
   "cell_type": "markdown",
   "metadata": {},
   "source": [
    "funcion 2"
   ]
  },
  {
   "cell_type": "code",
   "execution_count": null,
   "metadata": {},
   "outputs": [],
   "source": [
    "a=(float(input(\"ingrese el numero menor del intervalo \")))\n",
    "b=(float(input(\"ingrese el numero mayor del intervalo \")))   \n",
    "c=(a+b)/2\n",
    "while (b-a)/2 > 0.001:\n",
    "    if funcion2(c) == 0:\n",
    "        break\n",
    "    elif funcion2(a)*funcion2(c) < 0:\n",
    "        b = c\n",
    "    else:\n",
    "        a = c\n",
    "    c = (a + b) / 2  \n",
    "print(\"la raiz en el intervalo es:\",c)"
   ]
  },
  {
   "cell_type": "markdown",
   "metadata": {},
   "source": [
    "funcion 3"
   ]
  },
  {
   "cell_type": "code",
   "execution_count": null,
   "metadata": {},
   "outputs": [],
   "source": [
    "a=(float(input(\"ingrese el numero menor del intervalo \")))\n",
    "b=(float(input(\"ingrese el numero mayor del intervalo \")))   \n",
    "c=(a+b)/2\n",
    "while (b-a)/2 > 0.001:\n",
    "    if funcion3(c) == 0:\n",
    "        break\n",
    "    elif funcion3(a)*funcion3(c) < 0:\n",
    "        b = c\n",
    "    else:\n",
    "        a = c\n",
    "    c = (a + b) / 2  \n",
    "print(\"la raiz en el intervalo es:\",c)"
   ]
  },
  {
   "cell_type": "markdown",
   "metadata": {},
   "source": [
    "funcion 4"
   ]
  },
  {
   "cell_type": "code",
   "execution_count": null,
   "metadata": {},
   "outputs": [],
   "source": [
    "a=(float(input(\"ingrese el numero menor del intervalo \")))\n",
    "b=(float(input(\"ingrese el numero mayor del intervalo \")))   \n",
    "c=(a+b)/2\n",
    "while (b-a)/2 > 0.001:\n",
    "    if funcion4(c) == 0:\n",
    "        break\n",
    "    elif funcion4(a)*funcion4(c) < 0:\n",
    "        b = c\n",
    "    else:\n",
    "        a = c\n",
    "    c = (a + b) / 2  \n",
    "print(\"la raiz en el intervalo es:\",c)"
   ]
  },
  {
   "cell_type": "markdown",
   "metadata": {},
   "source": [
    "funcion 5"
   ]
  },
  {
   "cell_type": "code",
   "execution_count": null,
   "metadata": {},
   "outputs": [],
   "source": [
    "a=(float(input(\"ingrese el numero menor del intervalo \")))\n",
    "b=(float(input(\"ingrese el numero mayor del intervalo \")))   \n",
    "c=(a+b)/2\n",
    "while (b-a)/2 > 0.001:\n",
    "    if funcion5(c) == 0:\n",
    "        break\n",
    "    elif funcion5(a)*funcion5(c) < 0:\n",
    "        b = c\n",
    "    else:\n",
    "        a = c\n",
    "    c = (a + b) / 2  \n",
    "print(\"la raiz en el intervalo es:\",c)"
   ]
  },
  {
   "cell_type": "markdown",
   "metadata": {},
   "source": [
    "funcion 6"
   ]
  },
  {
   "cell_type": "code",
   "execution_count": null,
   "metadata": {},
   "outputs": [],
   "source": [
    "a=(float(input(\"ingrese el numero menor del intervalo \")))\n",
    "b=(float(input(\"ingrese el numero mayor del intervalo \")))   \n",
    "c=(a+b)/2\n",
    "while (b-a)/2 > 0.001:\n",
    "    if funcion6(c) == 0:\n",
    "        break\n",
    "    elif funcion6(a)*funcion6(c) < 0:\n",
    "        b = c\n",
    "    else:\n",
    "        a = c\n",
    "    c = (a + b) / 2  \n",
    "print(\"la raiz en el intervalo es:\",c)"
   ]
  },
  {
   "cell_type": "markdown",
   "metadata": {},
   "source": [
    "funcion 7"
   ]
  },
  {
   "cell_type": "code",
   "execution_count": null,
   "metadata": {},
   "outputs": [],
   "source": [
    "a=(float(input(\"ingrese el numero menor del intervalo \")))\n",
    "b=(float(input(\"ingrese el numero mayor del intervalo \")))   \n",
    "c=(a+b)/2\n",
    "while (b-a)/2 > 0.001:\n",
    "    if funcion7(c) == 0:\n",
    "        break\n",
    "    elif funcion7(a)*funcion7(c) < 0:\n",
    "        b = c\n",
    "    else:\n",
    "        a = c\n",
    "    c = (a + b) / 2  \n",
    "print(\"la raiz en el intervalo es:\",c)"
   ]
  },
  {
   "cell_type": "markdown",
   "metadata": {},
   "source": [
    "funcion 8"
   ]
  },
  {
   "cell_type": "code",
   "execution_count": null,
   "metadata": {},
   "outputs": [],
   "source": [
    "a=(float(input(\"ingrese el numero menor del intervalo \")))\n",
    "b=(float(input(\"ingrese el numero mayor del intervalo \")))   \n",
    "c=(a+b)/2\n",
    "while (b-a)/2 > 0.001:\n",
    "    if funcion8(c) == 0:\n",
    "        break\n",
    "    elif funcion8(a)*funcion8(c) < 0:\n",
    "        b = c\n",
    "    else:\n",
    "        a = c\n",
    "    c = (a + b) / 2  \n",
    "print(\"la raiz en el intervalo es:\",c)"
   ]
  },
  {
   "cell_type": "markdown",
   "metadata": {},
   "source": [
    "funcion 9"
   ]
  },
  {
   "cell_type": "code",
   "execution_count": null,
   "metadata": {},
   "outputs": [],
   "source": [
    "a=(float(input(\"ingrese el numero menor del intervalo \")))\n",
    "b=(float(input(\"ingrese el numero mayor del intervalo \")))   \n",
    "c=(a+b)/2\n",
    "while (b-a)/2 > 0.001:\n",
    "    if funcion1(c) == 0:\n",
    "        break\n",
    "    elif funcion9(a)*funcion9(c) < 0:\n",
    "        b = c\n",
    "    else:\n",
    "        a = c\n",
    "    c = (a + b) / 2  \n",
    "print(\"la raiz en el intervalo es:\",c)"
   ]
  },
  {
   "cell_type": "markdown",
   "metadata": {},
   "source": [
    "funcion 10"
   ]
  },
  {
   "cell_type": "code",
   "execution_count": null,
   "metadata": {},
   "outputs": [],
   "source": [
    "a=(float(input(\"ingrese el numero menor del intervalo \")))\n",
    "b=(float(input(\"ingrese el numero mayor del intervalo \")))   \n",
    "c=(a+b)/2\n",
    "while (b-a)/2 > 0.001:\n",
    "    if funcion10(c) == 0:\n",
    "        break\n",
    "    elif funcion10(a)*funcion10(c) < 0:\n",
    "        b = c\n",
    "    else:\n",
    "        a = c\n",
    "    c = (a + b) / 2  \n",
    "print(\"la raiz en el intervalo es:\",c)"
   ]
  },
  {
   "cell_type": "markdown",
   "metadata": {},
   "source": [
    "funcion 11"
   ]
  },
  {
   "cell_type": "code",
   "execution_count": null,
   "metadata": {},
   "outputs": [],
   "source": [
    "a=(float(input(\"ingrese el numero menor del intervalo \")))\n",
    "b=(float(input(\"ingrese el numero mayor del intervalo \")))   \n",
    "c=(a+b)/2\n",
    "while (b-a)/2 > 0.001:\n",
    "    if funcion11(c) == 0:\n",
    "        break\n",
    "    elif funcion11(a)*funcion11(c) < 0:\n",
    "        b = c\n",
    "    else:\n",
    "        a = c\n",
    "    c = (a + b) / 2  \n",
    "print(\"la raiz en el intervalo es:\",c)"
   ]
  },
  {
   "cell_type": "markdown",
   "metadata": {},
   "source": [
    "funcion 12"
   ]
  },
  {
   "cell_type": "code",
   "execution_count": null,
   "metadata": {},
   "outputs": [],
   "source": [
    "a=(float(input(\"ingrese el numero menor del intervalo \")))\n",
    "b=(float(input(\"ingrese el numero mayor del intervalo \")))   \n",
    "c=(a+b)/2\n",
    "while (b-a)/2 > 0.001:\n",
    "    if funcion12(c) == 0:\n",
    "        break\n",
    "    elif funcion12(a)*funcion12(c) < 0:\n",
    "        b = c\n",
    "    else:\n",
    "        a = c\n",
    "    c = (a + b) / 2  \n",
    "print(\"la raiz en el intervalo es:\",c)"
   ]
  },
  {
   "cell_type": "markdown",
   "metadata": {},
   "source": [
    "funcion 13"
   ]
  },
  {
   "cell_type": "code",
   "execution_count": null,
   "metadata": {},
   "outputs": [],
   "source": [
    "a=(float(input(\"ingrese el numero menor del intervalo \")))\n",
    "b=(float(input(\"ingrese el numero mayor del intervalo \")))   \n",
    "c=(a+b)/2\n",
    "while (b-a)/2 > 0.001:\n",
    "    if funcion13(c) == 0:\n",
    "        break\n",
    "    elif funcion13(a)*funcion13(c) < 0:\n",
    "        b = c\n",
    "    else:\n",
    "        a = c\n",
    "    c = (a + b) / 2  \n",
    "print(\"la raiz en el intervalo es:\",c)"
   ]
  }
 ],
 "metadata": {
  "kernelspec": {
   "display_name": "Python 3",
   "language": "python",
   "name": "python3"
  },
  "language_info": {
   "codemirror_mode": {
    "name": "ipython",
    "version": 3
   },
   "file_extension": ".py",
   "mimetype": "text/x-python",
   "name": "python",
   "nbconvert_exporter": "python",
   "pygments_lexer": "ipython3",
   "version": "3.5.2"
  }
 },
 "nbformat": 4,
 "nbformat_minor": 2
}
