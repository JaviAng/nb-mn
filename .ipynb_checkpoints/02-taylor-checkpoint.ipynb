{
 "cells": [
  {
   "cell_type": "markdown",
   "metadata": {},
   "source": [
    "# Métodos Numéricos"
   ]
  },
  {
   "cell_type": "markdown",
   "metadata": {},
   "source": [
    "## Series de Taylor"
   ]
  },
  {
   "cell_type": "markdown",
   "metadata": {},
   "source": [
    "Una Serie de Taylor es la representación de una función como la sumatoria infinita de términos, calculados a partir de las derivadas de la función original evaluada en un punto.\n",
    "\n",
    "$$\n",
    "\\begin{eqnarray*}\n",
    "f(x) &=& f(a)+\\frac {f'(a)}{1!} (x-a)+ \\frac{f''(a)}{2!} (x-a)^2+\\frac{f'''(a)}{3!}(x-a)^3+ \\cdots \\\\\n",
    "     &=& \\sum_{n=0} ^ {\\infty} \\frac {f^{(n)}(a)}{n!} \\, (x-a)^{n} \n",
    "\\end{eqnarray*}\n",
    "$$"
   ]
  },
  {
   "cell_type": "markdown",
   "metadata": {},
   "source": [
    "## Ejemplo"
   ]
  },
  {
   "cell_type": "markdown",
   "metadata": {},
   "source": [
    "Se desea aproximar la función $cos(x)$ utilizando una función polinómica. Para ver el resultado gráficamente se importará el paquete `matplotlib` "
   ]
  },
  {
   "cell_type": "code",
   "execution_count": null,
   "metadata": {},
   "outputs": [],
   "source": [
    "%matplotlib inline\n",
    "import matplotlib.pyplot as plt"
   ]
  },
  {
   "cell_type": "markdown",
   "metadata": {},
   "source": [
    "luego se importa el paquete `numpy`"
   ]
  },
  {
   "cell_type": "code",
   "execution_count": null,
   "metadata": {},
   "outputs": [],
   "source": [
    "import numpy as np"
   ]
  },
  {
   "cell_type": "markdown",
   "metadata": {},
   "source": [
    "a continuación se declara un arreglo entre $-2\\pi$ y $2\\pi$ que representará los valores en $x$ y se calcula el valor de la función $cos(x)$ utilizando la vectorización que ofrece `numpy`"
   ]
  },
  {
   "cell_type": "code",
   "execution_count": null,
   "metadata": {},
   "outputs": [],
   "source": [
    "X = np.linspace(-2*np.pi, 2*np.pi, 256, endpoint=True)\n",
    "C = np.cos(X)"
   ]
  },
  {
   "cell_type": "markdown",
   "metadata": {},
   "source": [
    "Ahora se procede a estimar la aproximación utilizando un polinomio de grado 2"
   ]
  },
  {
   "cell_type": "code",
   "execution_count": null,
   "metadata": {},
   "outputs": [],
   "source": [
    "c0 = 1      # 1\n",
    "c1 = 0      # 0\n",
    "c2 = -0.5   # -0.5\n",
    "P = c0 + c1*X + c2*X*X"
   ]
  },
  {
   "cell_type": "markdown",
   "metadata": {},
   "source": [
    "Por último se fijan los valores de los ejes y se muestran los resultado en la gráfica"
   ]
  },
  {
   "cell_type": "code",
   "execution_count": null,
   "metadata": {},
   "outputs": [],
   "source": [
    "ax = plt.gca()  # gca stands for 'get current axis'\n",
    "ax.spines['right'].set_color('none')\n",
    "ax.spines['top'].set_color('none')\n",
    "ax.xaxis.set_ticks_position('bottom')\n",
    "ax.spines['bottom'].set_position(('data',0))\n",
    "ax.yaxis.set_ticks_position('left')\n",
    "ax.spines['left'].set_position(('data',0))\n",
    "\n",
    "plt.ylim([-2, 2])\n",
    "plt.plot(X, C)\n",
    "plt.plot(X, P)"
   ]
  },
  {
   "cell_type": "markdown",
   "metadata": {},
   "source": [
    "## Ejercicio"
   ]
  },
  {
   "cell_type": "markdown",
   "metadata": {},
   "source": [
    "1. Complete la siguiente tabla para la función $cos(x)$, alrededor del punto $a = 0$, utilizando el número indicado de términos en la aproximación.\n",
    "\n",
    "|        x      | Exacto      | Aprox. 1  | Aprox. 2  | Aprox. 3  | Aprox. 4  | Aprox. 5  |\n",
    "| ------------- | ----------: | --------: | --------: | --------: | --------: | --------: |\n",
    "| 0             |             |           |           |           |           |           |\n",
    "| 0.00001       |             |           |           |           |           |           |\n",
    "| 0.0001        |             |           |           |           |           |           |\n",
    "| 0.001         |             |           |           |           |           |           |\n",
    "| 0.01          |             |           |           |           |           |           |\n",
    "| 0.1           |             |           |           |           |           |           |\n",
    "| 1             |             |           |           |           |           |           |\n",
    "| 10            |             |           |           |           |           |           |\n",
    "\n",
    "El resultado debe ser gardado en el respositorio como tarea2/tarea2-##.ipynb, donde ## representa el número de grupo. La fecha de entrega es 8 de Marzo 2018."
   ]
  },
  {
   "cell_type": "markdown",
   "metadata": {},
   "source": [
    "## Referencias"
   ]
  },
  {
   "cell_type": "markdown",
   "metadata": {},
   "source": [
    "* [Video: Series de Taylor](https://www.youtube.com/watch?v=3d6DsjIBzJ4)"
   ]
  }
 ],
 "metadata": {
  "kernelspec": {
   "display_name": "Python 2",
   "language": "python",
   "name": "python2"
  },
  "language_info": {
   "codemirror_mode": {
    "name": "ipython",
    "version": 2
   },
   "file_extension": ".py",
   "mimetype": "text/x-python",
   "name": "python",
   "nbconvert_exporter": "python",
   "pygments_lexer": "ipython2",
   "version": "2.7.10"
  }
 },
 "nbformat": 4,
 "nbformat_minor": 2
}
