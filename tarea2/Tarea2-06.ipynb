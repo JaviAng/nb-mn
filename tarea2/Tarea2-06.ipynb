{
 "cells": [
  {
   "cell_type": "code",
   "execution_count": 94,
   "metadata": {},
   "outputs": [
    {
     "name": "stdout",
     "output_type": "stream",
     "text": [
      "X\tExacto\t\t\tAprox.1\tAprox.2\tAprox.3\t\tAprox.4\t\tAprox.5\n",
      "0\t 1 \t\t\t 1 \t 1 \t 1 \t\t 1 \t\t 1\n",
      "0.00001\t 0.999999999950000 \t\t 0.999999999950000 \t 1 \t 0.999999999950000 \t 0.999999999950000 \t 0.999999999950000\n",
      "0.0001\t 0.999999995000000 \t\t 0.999999995000000 \t 1 \t 0.999999995000000 \t 0.999999995000000 \t 0.999999995000000\n",
      "0.001\t 0.999999500000042 \t 0.999999500000042 \t 1 \t 0.999999500000000 \t 0.999999500000000 \t 0.999999500000042\n",
      "0.01\t 0.999950000416665 \t 0.999950000416665 \t 1 \t 0.999950000000000 \t 0.999950000000000 \t 0.999950000416667\n",
      "0.1\t 0.995004165278026 \t 0.995004165278026 \t 1 \t 0.995000000000000 \t\t 0.995000000000000 \t\t 0.995004166666667\n",
      "1\t cos(1) \t 0.540302305868140 \t 1 \t 0.500000000000000 \t\t 0.500000000000000 \t\t 0.541666666666667\n",
      "10\t cos(10) \t -0.839071529076452 \t 1 \t -49.0000000000000 \t\t -49.0000000000000 \t\t 367.666666666667\n"
     ]
    }
   ],
   "source": [
    "import numpy as np\n",
    "from sympy import cos,sin\n",
    "import math\n",
    "#------------------------------------------------------------------------------------------------------------------------\n",
    "matriz  = [0,0,0,0,0,0],[0,0,0,0,0,0],[0,0,0,0,0,0],[0,0,0,0,0,0],[0,0,0,0,0,0],[0,0,0,0,0,0],[0,0,0,0,0,0],[0,0,0,0,0,0]\n",
    "x=0;\n",
    "Numeros = ['0','0.00001','0.0001','0.001','0.01','0.1','1','10']\n",
    "#------------------------------------------------------------------------------------------------------------------------\n",
    "for i in range (8):\n",
    "      \n",
    "        \n",
    "    for e in range (5):\n",
    "        if e == 0:\n",
    "            matriz[i][e]=cos(x)\n",
    "        if e == 1:\n",
    "            matriz[i][e]=cos(0)-x*sin(0)\n",
    "        if e == 2:\n",
    "            matriz[i][e]=cos(0)-x*sin(0)-((x**2)/2)*cos(0)\n",
    "        if e == 3:\n",
    "            matriz[i][e]=cos(0)-x*sin(0)-((x**2)/2)*cos(0)+((x**3)/6)*sin(0)\n",
    "        if e == 4:\n",
    "            matriz[i][e]=cos(0)-x*sin(0)-((x**2)/2)*cos(0)+((x**3)/6)*sin(0)+((x**4)/24)*cos(0)\n",
    "        if e == 5:\n",
    "            matriz[i][e]=cos(0)-x*sin(0)-((x**2)/2)*cos(0)+((x**3)/6)*sin(0)+((x**4)/24)*cos(0)-((x**5)/120)*sin(0)\n",
    "            \n",
    "    if x==0:\n",
    "        x=x+0.00001\n",
    "    else:\n",
    "        x=x*10 \n",
    "\n",
    "#------------------------------------------------------------------------------------------------------------------------\n",
    "print('X\\tExacto\\t\\t\\tAprox.1\\tAprox.2\\tAprox.3\\t\\tAprox.4\\t\\tAprox.5')\n",
    "\n",
    "print('0\\t',cos(0),'\\t\\t\\t',matriz[0][0],'\\t',matriz[0][1],'\\t',matriz[0][2],'\\t\\t',matriz[0][3],'\\t\\t',matriz[0][4])\n",
    "print('0.00001\\t',cos(0.00001),'\\t\\t',matriz[1][0],'\\t',matriz[1][1],'\\t',matriz[1][2],'\\t',matriz[1][3],'\\t',matriz[1][4],)\n",
    "print('0.0001\\t',cos(0.0001),'\\t\\t',matriz[2][0],'\\t',matriz[2][1],'\\t',matriz[2][2],'\\t',matriz[2][3],'\\t',matriz[2][4],)\n",
    "print('0.001\\t',cos(0.001),'\\t',matriz[3][0],'\\t',matriz[3][1],'\\t',matriz[3][2],'\\t',matriz[3][3],'\\t',matriz[3][4],)\n",
    "print('0.01\\t',cos(0.01),'\\t',matriz[4][0],'\\t',matriz[4][1],'\\t',matriz[4][2],'\\t',matriz[4][3],'\\t',matriz[4][4],)\n",
    "print('0.1\\t',cos(0.1),'\\t',matriz[5][0],'\\t',matriz[5][1],'\\t',matriz[5][2],'\\t\\t',matriz[5][3],'\\t\\t',matriz[5][4],)\n",
    "print('1\\t', cos(1),'\\t',matriz[6][0],'\\t',matriz[6][1],'\\t',matriz[6][2],'\\t\\t',matriz[6][3],'\\t\\t',matriz[6][4],)\n",
    "print('10\\t', cos(10),'\\t',matriz[7][0],'\\t',matriz[7][1],'\\t',matriz[7][2],'\\t\\t',matriz[7][3],'\\t\\t',matriz[7][4],)\n"
   ]
  },
  {
   "cell_type": "code",
   "execution_count": null,
   "metadata": {},
   "outputs": [],
   "source": []
  }
 ],
 "metadata": {
  "kernelspec": {
   "display_name": "Python 3",
   "language": "python",
   "name": "python3"
  },
  "language_info": {
   "codemirror_mode": {
    "name": "ipython",
    "version": 3
   },
   "file_extension": ".py",
   "mimetype": "text/x-python",
   "name": "python",
   "nbconvert_exporter": "python",
   "pygments_lexer": "ipython3",
   "version": "3.6.4"
  }
 },
 "nbformat": 4,
 "nbformat_minor": 2
}
