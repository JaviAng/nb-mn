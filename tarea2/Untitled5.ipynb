{
 "cells": [
  {
   "cell_type": "markdown",
   "metadata": {},
   "source": [
    "Juan Esteban Velez 161003641 \n",
    "Leonardo Cardona 161003608"
   ]
  },
  {
   "cell_type": "code",
   "execution_count": 1,
   "metadata": {},
   "outputs": [
    {
     "name": "stdout",
     "output_type": "stream",
     "text": [
      "X\tExacto\t\t\tAprox.1\tAprox.2\tAprox.3\t\tAprox.4\t\tAprox.5\n",
      "----------------------------------------------------------------------------------------------------\n",
      "0\t 1.0 \t\t\t 1 \t 1 \t 1.0 \t\t 1.0 \t\t 1.0\n",
      "0.00001\t 0.99999999995 \t\t 1 \t 1 \t 0.99999999995 \t 0.99999999995 \t 0.99999999995\n",
      "0.0001\t 0.999999995 \t\t 1 \t 1 \t 0.999999995 \t 0.999999995 \t 0.999999995\n",
      "0.001\t 0.9999995000000417 \t 1 \t 1 \t 0.9999995 \t 0.9999995 \t 0.9999995000000417\n",
      "0.01\t 0.9999500004166653 \t 1 \t 1 \t 0.99995 \t 0.99995 \t 0.9999500004166667\n",
      "0.1\t 0.9950041652780258 \t 1 \t 1 \t 0.995 \t\t 0.995 \t\t 0.9950041666666667\n",
      "1\t 0.5403023058681397 \t 1 \t 1 \t 0.5 \t\t 0.5 \t\t 0.5416666666666666\n",
      "10\t -0.8390715290764524 \t 1 \t 1 \t -49.0 \t\t -49.0 \t\t 367.66666666666663\n",
      "----------------------------------------------------------------------------------------------------\n"
     ]
    }
   ],
   "source": [
    "import math\n",
    "\n",
    "c0 = 1;\n",
    "c2 = -0.5;\n",
    "c3 = 1/24;\n",
    "vector = [0,0.00001,0.0001,0.001,0.01,0.1,1,10];\n",
    "matriz = [0,0,0,0,0],[0,0,0,0,0],[0,0,0,0,0],[0,0,0,0,0],[0,0,0,0,0],[0,0,0,0,0],[0,0,0,0,0],[0,0,0,0,0];\n",
    "\n",
    "for y in range (8):\n",
    "    x = vector[y];\n",
    "    for z in range (5):\n",
    "        if (z == 0) :\n",
    "            matriz[y][z]= c0;\n",
    "        if (z == 1):\n",
    "            matriz[y][z]= c0  ;\n",
    "        if (z == 2) :\n",
    "            matriz[y][z]= c0  + c2*(x**2);\n",
    "        if (z == 3):\n",
    "            matriz[y][z]= c0 + c2*(x**2) ;\n",
    "        if (z == 4) :\n",
    "            matriz[y][z]= c0  + c2*(x**2) + c3*(x**4) ;\n",
    "\n",
    "\n",
    "\n",
    "print('X\\tExacto\\t\\t\\tAprox.1\\tAprox.2\\tAprox.3\\t\\tAprox.4\\t\\tAprox.5')\n",
    "print('-'*100)\n",
    "print('0\\t',math.cos(0),'\\t\\t\\t',matriz[0][0],'\\t',matriz[0][1],'\\t',matriz[0][2],'\\t\\t',matriz[0][3],'\\t\\t',matriz[0][4])\n",
    "print('0.00001\\t',math.cos(0.00001),'\\t\\t',matriz[1][0],'\\t',matriz[1][1],'\\t',matriz[1][2],'\\t',matriz[1][3],'\\t',matriz[1][4],)\n",
    "print('0.0001\\t',math.cos(0.0001),'\\t\\t',matriz[2][0],'\\t',matriz[2][1],'\\t',matriz[2][2],'\\t',matriz[2][3],'\\t',matriz[2][4],)\n",
    "print('0.001\\t',math.cos(0.001),'\\t',matriz[3][0],'\\t',matriz[3][1],'\\t',matriz[3][2],'\\t',matriz[3][3],'\\t',matriz[3][4],)\n",
    "print('0.01\\t',math.cos(0.01),'\\t',matriz[4][0],'\\t',matriz[4][1],'\\t',matriz[4][2],'\\t',matriz[4][3],'\\t',matriz[4][4],)\n",
    "print('0.1\\t',math.cos(0.1),'\\t',matriz[5][0],'\\t',matriz[5][1],'\\t',matriz[5][2],'\\t\\t',matriz[5][3],'\\t\\t',matriz[5][4],)\n",
    "print('1\\t',math.cos(1),'\\t',matriz[6][0],'\\t',matriz[6][1],'\\t',matriz[6][2],'\\t\\t',matriz[6][3],'\\t\\t',matriz[6][4],)\n",
    "print('10\\t',math.cos(10),'\\t',matriz[7][0],'\\t',matriz[7][1],'\\t',matriz[7][2],'\\t\\t',matriz[7][3],'\\t\\t',matriz[7][4],)\n",
    "print('-'*100)"
   ]
  },
  {
   "cell_type": "code",
   "execution_count": null,
   "metadata": {},
   "outputs": [],
   "source": []
  }
 ],
 "metadata": {
  "kernelspec": {
   "display_name": "Python 3",
   "language": "python",
   "name": "python3"
  },
  "language_info": {
   "codemirror_mode": {
    "name": "ipython",
    "version": 3
   },
   "file_extension": ".py",
   "mimetype": "text/x-python",
   "name": "python",
   "nbconvert_exporter": "python",
   "pygments_lexer": "ipython3",
   "version": "3.6.4"
  }
 },
 "nbformat": 4,
 "nbformat_minor": 2
}
