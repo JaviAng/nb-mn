{
 "cells": [
  {
   "cell_type": "markdown",
   "metadata": {},
   "source": [
    "#   Tarea numero 2\n",
    "### Serie de Taylor\n",
    "### Jose David Ramos Rios\n",
    "### Codigo: 161002940"
   ]
  },
  {
   "cell_type": "markdown",
   "metadata": {},
   "source": [
    "### Tabla -------------------------------------------------------------------------------------------------------------------\n",
    "Una Serie de Taylor es la representación de una función como la sumatoria infinita de términos, calculados a partir de las derivadas de la función original evaluada en un punto.\n",
    "\n",
    "$$\n",
    "\\begin{eqnarray*}\n",
    "f(x) &=& f(a)+\\frac {f'(a)}{1!} (x-a)+ \\frac{f''(a)}{2!} (x-a)^2+\\frac{f'''(a)}{3!}(x-a)^3+ \\cdots \\\\\n",
    "     &=& \\sum_{n=0} ^ {\\infty} \\frac {f^{(n)}(a)}{n!} \\, (x-a)^{n} \n",
    "\\end{eqnarray*}\n",
    "$$\n"
   ]
  },
  {
   "cell_type": "markdown",
   "metadata": {},
   "source": [
    "# para el desarrollo de serie de taylor se obtiene que \n",
    "\n",
    "\\begin{multline*}\n",
    "cos(x) = 1 -\\frac{x^2}{2!} + \\frac{x^4}{4!}-\\frac{x^6}{6!}+\\frac{x^8}{8!}\n",
    "\\end{multline*}\n",
    "\n",
    "esto debido a que la derivada impares de coseno al ser evaludas en cero su valor va a ser cero \n",
    "y lo que vamos a obtener son en la parte par de la devidas en este caso un valor oscilatorio 1,-1\n"
   ]
  },
  {
   "cell_type": "code",
   "execution_count": 44,
   "metadata": {},
   "outputs": [
    {
     "name": "stdout",
     "output_type": "stream",
     "text": [
      "ingrese valor x: 10\n",
      "valor aproximado: 5\n",
      "367.666666667\n"
     ]
    }
   ],
   "source": [
    "# serie de taylor \n",
    "num = float(input(\"ingrese valor x: \"))\n",
    "ap= float(input(\"valor aproximado: \"))\n",
    "\n",
    "\n",
    "if(ap==1):\n",
    "    a=1\n",
    "    print(a)\n",
    "\n",
    "if(ap==2):\n",
    "    a=1+0\n",
    "    print(a)\n",
    "    \n",
    "if(ap==3):\n",
    "    a= 1+ 0 -((num**2)/2)\n",
    "    print(a)    \n",
    "\n",
    "if(ap==4):\n",
    "    a= 1+ 0 -((num**2)/2)+0\n",
    "    print(a)  \n",
    "\n",
    "if(ap==5):\n",
    "    a= 1+ 0 -((num**2)/2)+0+((num**4)/24)\n",
    "    print(a)"
   ]
  },
  {
   "cell_type": "markdown",
   "metadata": {},
   "source": [
    "# serie de Taylor\n",
    "Ejercicio:\n",
    " \n",
    "Complete la siguiente tabla para la función $cos(x)$, alrededor del punto $a = 0$, utilizando el número indicado de términos en la aproximación.\n",
    "\n",
    " \n",
    "   | x     | Exacto |Aprox.1|Aprox.2|Aprox.3|Aprox.4|Aprox.5|\n",
    "   |:----------------:|:--------------:|:-----------:|:------------:|:----------:|:-----:|:--------|\n",
    "   |*0 *|1 |1|1|1|1|1|\n",
    "   |*0.00001*|1|1|1|0.99999999995|0.99999999995|0.99999999995|\n",
    "   |*0.0001*|0.999999995|1|1|0.999999995|0.999999995|0.999999995|\n",
    "   |*0.001*|0.9999995|1|1|0.9999995|0.9999995|0.9999995|\n",
    "   |*0.01*|0.9999500004|1|1|0.99995|0.99995|0.99995|\n",
    "   |*0.1*|0.9950041653|1|1|0.995|0.995|0.995004166667|\n",
    "   |*1*|0.5403023059|1|1|0.5|0.5|0.541666666667|\n",
    "   |*10*|-0.8390715291|1|1|-49.0|-49.0|367.666666667|\n",
    "   Tabla 2\n"
   ]
  },
  {
   "cell_type": "markdown",
   "metadata": {},
   "source": []
  },
  {
   "cell_type": "code",
   "execution_count": null,
   "metadata": {},
   "outputs": [],
   "source": []
  },
  {
   "cell_type": "code",
   "execution_count": null,
   "metadata": {},
   "outputs": [],
   "source": []
  }
 ],
 "metadata": {
  "kernelspec": {
   "display_name": "Python 2",
   "language": "python",
   "name": "python2"
  },
  "language_info": {
   "codemirror_mode": {
    "name": "ipython",
    "version": 2
   },
   "file_extension": ".py",
   "mimetype": "text/x-python",
   "name": "python",
   "nbconvert_exporter": "python",
   "pygments_lexer": "ipython2",
   "version": "2.7.14"
  }
 },
 "nbformat": 4,
 "nbformat_minor": 2
}
