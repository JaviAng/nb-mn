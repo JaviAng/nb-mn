{
 "cells": [
  {
   "cell_type": "markdown",
   "metadata": {},
   "source": [
    "Angie Gordillo - Cristian Ipia"
   ]
  },
  {
   "cell_type": "code",
   "execution_count": 1,
   "metadata": {},
   "outputs": [
    {
     "name": "stdout",
     "output_type": "stream",
     "text": [
      "x\t\t     Exacto\t\tAprox.1\t\tAprox.2\t\tAprox.3\t\tAprox.4\t\tAprox.5\t\t\n",
      "\n",
      "0       |\t1.0000000000000000\t1.0     \t1.0     \t1.0     \t1.0     \t1.0     \n",
      "1e-05   |\t0.9999999999500000\t1.0     \t1.0     \t0.99999999995\t0.99999999995\t0.99999999995\n",
      "0.0001  |\t0.9999999950000000\t1.0     \t1.0     \t0.999999995\t0.999999995\t0.999999995\n",
      "0.001   |\t0.9999995000000417\t1.0     \t1.0     \t0.9999995\t0.9999995\t0.9999995000000417\n",
      "0.01    |\t0.9999500004166653\t1.0     \t1.0     \t0.99995 \t0.99995 \t0.9999500004166667\n",
      "0.1     |\t0.9950041652780258\t1.0     \t1.0     \t0.995   \t0.995   \t0.9950041666666667\n",
      "1.0     |\t0.5403023058681398\t1.0     \t1.0     \t0.5     \t0.5     \t0.5416666666666666\n",
      "10.0    |\t-0.8390715290764524\t1.0     \t1.0     \t-49.0   \t-49.0   \t367.66666666666663\n"
     ]
    }
   ],
   "source": [
    "import numpy\n",
    "import math\n",
    "from math import factorial\n",
    "\n",
    "j=0;\n",
    "ve=[0]*8;\n",
    "vap1=[0]*8;\n",
    "vap2=[0]*8;\n",
    "vap3=[0]*8;\n",
    "vap4=[0]*8;\n",
    "vap5=[0]*8;\n",
    "vexac=[0]*8;\n",
    "for j in range(5):\n",
    "    x=100;\n",
    "    vn=[0]*8;\n",
    "    v=[0]*8;\n",
    "    for i in range(8):\n",
    "        if j==0:\n",
    "            \n",
    "            v[i]=math.cos(0)\n",
    "            if i==7:\n",
    "                x=0;\n",
    "            \n",
    "            else:\n",
    "                x=x/10;\n",
    "           \n",
    "            ve[i]=x;\n",
    "            vexac[i]=math.cos(x)\n",
    "        elif j%2 !=0: \n",
    "\n",
    "            if i==7:\n",
    "                x=0;\n",
    "                \n",
    "            else:\n",
    "                 x=x/10;\n",
    "            if j==1:\n",
    "                 vn[i]=(math.sin(0))*(x**j)*(1)*(-1)\n",
    "            elif j== 3:\n",
    "                 vn[i]=(math.sin(0))*(x**j)*(1/6)\n",
    "        elif j%2 ==0:\n",
    "                if i==7:\n",
    "                    x=0;\n",
    "\n",
    "                else:\n",
    "                    x=x/10;\n",
    "                if j==2:\n",
    "                     v[i]=(math.cos(0))*(x**j)*(1/2)*(-1)\n",
    "                elif j== 4:\n",
    "                     v[i]=(math.cos(0))*(x**j)*(1/24)\n",
    "   \n",
    "    if j==0:\n",
    "                vap1=v;\n",
    "                pass\n",
    "                \n",
    "    elif j==1:\n",
    "             for i in range (8):\n",
    "                 vap2[i]=vn[i]+vap1[i];\n",
    "                \n",
    "    elif j==2:\n",
    "            for i in range (8):    \n",
    "                 vap3[i]=v[i]+vap2[i];\n",
    "                 \n",
    "    elif j==3:\n",
    "            for i in range (8):     \n",
    "                 vap4[i]=vn[i]+vap3[i];\n",
    "                 \n",
    "    elif j==4:\n",
    "            for i in range (8):     \n",
    "                 vap5[i]=v[i]+vap4[i];         \n",
    "vap5\n",
    "print('{:<8}{:<8}{:<8}{:<8}{:<8}{:<8}{:<8}\\n'.format('x\\t\\t','Exacto\\t\\t','Aprox.1\\t\\t','Aprox.2\\t\\t','Aprox.3\\t\\t','Aprox.4\\t\\t','Aprox.5\\t\\t'));\n",
    "i=7;\n",
    "while i>=0:\n",
    "    print('{:<8}|\\t{:<8.16f}\\t{:<8}\\t{:<8}\\t{:<8}\\t{:<8}\\t{:<8}'.format(ve[i],vexac[i],vap1[i],vap2[i],vap3[i],vap4[i],vap5[i]));\n",
    "    i=i-1;"
   ]
  }
 ],
 "metadata": {
  "kernelspec": {
   "display_name": "Python 3",
   "language": "python",
   "name": "python3"
  },
  "language_info": {
   "codemirror_mode": {
    "name": "ipython",
    "version": 3
   },
   "file_extension": ".py",
   "mimetype": "text/x-python",
   "name": "python",
   "nbconvert_exporter": "python",
   "pygments_lexer": "ipython3",
   "version": "3.6.4"
  }
 },
 "nbformat": 4,
 "nbformat_minor": 2
}
