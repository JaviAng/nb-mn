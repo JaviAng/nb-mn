{
 "cells": [
  {
   "cell_type": "code",
   "execution_count": null,
   "metadata": {},
   "outputs": [
    {
     "name": "stdout",
     "output_type": "stream",
     "text": [
      "ingrese número: 10\n",
      "ingrese hasta que grado la sumatoria: 3\n",
      "367.6666666666667\n"
     ]
    }
   ],
   "source": [
    "import math\n",
    "def serie_taylor (x,y):\n",
    "\tn = 0\n",
    "\tsuma_taylor = 0.0\n",
    "\ttermino_evaluar = 0\n",
    "\twhile (n < y):\n",
    "\t\ttermino_evaluar = (((-1)**n) * (x**(2*n))) / math.factorial(2*n)\n",
    "\t\tsuma_taylor = suma_taylor + termino_evaluar\n",
    "\t\tn = n + 1\n",
    "\treturn (suma_taylor)\n",
    "\n",
    "valida = 'si'\n",
    "while (valida == 'si'):\n",
    "\tnum = input('ingrese número: ')\n",
    "\tsumatoria = input('ingrese hasta que grado la sumatoria: ')\n",
    "\tnum = float(num)\n",
    "\tsumatoria = int(sumatoria)\n",
    "\tprint (serie_taylor(num,sumatoria))\n",
    "\tvalida = input('desea continuar: ')"
   ]
  },
  {
   "cell_type": "code",
   "execution_count": null,
   "metadata": {},
   "outputs": [],
   "source": []
  }
 ],
 "metadata": {
  "kernelspec": {
   "display_name": "Python 3",
   "language": "python",
   "name": "python3"
  },
  "language_info": {
   "codemirror_mode": {
    "name": "ipython",
    "version": 3
   },
   "file_extension": ".py",
   "mimetype": "text/x-python",
   "name": "python",
   "nbconvert_exporter": "python",
   "pygments_lexer": "ipython3",
   "version": "3.6.4"
  }
 },
 "nbformat": 4,
 "nbformat_minor": 2
}
