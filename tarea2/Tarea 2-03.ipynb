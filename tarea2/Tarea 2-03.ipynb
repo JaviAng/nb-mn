{
 "cells": [
  {
   "cell_type": "code",
   "execution_count": 4,
   "metadata": {},
   "outputs": [],
   "source": [
    "from sympy import sin\n",
    "from sympy import cos\n",
    "from math import pi"
   ]
  },
  {
   "cell_type": "code",
   "execution_count": 5,
   "metadata": {},
   "outputs": [],
   "source": [
    "#*****************************************************************************************************************************\n",
    "# Felipe Coral 161003611\n",
    "# Brayan Saldarriaga 161003640\n",
    "#*****************************************************************************************************************************\n",
    "\n",
    "Tabla =[[0,0,0,0,0,0],\n",
    "        [0,0,0,0,0,0],\n",
    "        [0,0,0,0,0,0],\n",
    "        [0,0,0,0,0,0],\n",
    "        [0,0,0,0,0,0],\n",
    "        [0,0,0,0,0,0],\n",
    "        [0,0,0,0,0,0],\n",
    "        [0,0,0,0,0,0]]\n",
    "x=0\n",
    "for i in range(8):\n",
    "    for j in range(6):\n",
    "        if j==0:\n",
    "            Tabla[i][j]=cos(x)\n",
    "        if j==1:\n",
    "            Tabla[i][j]=cos(0)-x*sin(0)\n",
    "        if j==2:\n",
    "            Tabla[i][j]=cos(0)-x*sin(0)-((x**2)/2)*cos(0)\n",
    "        if j==3:\n",
    "            Tabla[i][j]=cos(0)-x*sin(0)-((x**2)/2)*cos(0)+((x**3)/6)*sin(0)\n",
    "        if j==4:\n",
    "            Tabla[i][j]=cos(0)-x*sin(0)-((x**2)/2)*cos(0)+((x**3)/6)*sin(0)+((x**4)/24)*cos(0)\n",
    "        if j==5:\n",
    "            Tabla[i][j]=cos(0)-x*sin(0)-((x**2)/2)*cos(0)+((x**3)/6)*sin(0)+((x**4)/24)*cos(0)-((x**5)/120)*sin(0)\n",
    "    if x==0:\n",
    "        x=x+0.00001\n",
    "    else:\n",
    "        x=x*10"
   ]
  },
  {
   "cell_type": "code",
   "execution_count": 27,
   "metadata": {},
   "outputs": [
    {
     "name": "stdout",
     "output_type": "stream",
     "text": [
      "x       Exacto           Aprx1     Aprox.2              Aprox.3           Aprox.4                  Aprox.5\n",
      "0       1                 1    1                   1                  1                        1\n",
      "0.00001 0.999999999950000 1    0.999999999950000   0.999999999950000  0.999999999950000        0.999999999950000\n",
      "0.0001  0.999999995000000 1    0.999999995000000   0.999999995000000  0.999999995000000        0.999999995000000\n",
      "0.001   0.999999500000042 1    0.999999500000000   0.999999500000000  0.999999500000042        0.999999500000042\n",
      "0.01    0.999950000416665 1    0.999950000000000   0.999950000000000  0.999950000416667        0.999950000416667\n",
      "0.1     0.995004165278026 1    0.995000000000000   0.995000000000000  0.995004166666667        0.995004166666667\n",
      "1       0.540302305868140 1    0.500000000000000   0.500000000000000  0.541666666666667        0.541666666666667\n",
      "10     -0.839071529076452 1    1                  -49.0000000000000   367.666666666667         367.666666666667\n"
     ]
    }
   ],
   "source": [
    "print(\"x       Exacto           Aprx1     Aprox.2              Aprox.3           Aprox.4                  Aprox.5\")\n",
    "print(\"0      \",Tabla[0][0],\"               \",Tabla[0][1],\"  \",Tabla[0][2],\"                 \",Tabla[0][3],\"                \",Tabla[0][4],\"                      \",Tabla[0][5])\n",
    "print(\"0.00001\",Tabla[1][0],Tabla[1][1],\"  \",Tabla[1][2],\" \",Tabla[1][3],\"\",Tabla[1][4],\"      \",Tabla[1][5])\n",
    "print(\"0.0001 \",Tabla[2][0],Tabla[2][1],\"  \",Tabla[2][2],\" \",Tabla[2][3],\"\",Tabla[2][4],\"      \",Tabla[2][5])\n",
    "print(\"0.001  \",Tabla[3][0],Tabla[3][1],\"  \",Tabla[3][2],\" \",Tabla[3][3],\"\",Tabla[3][4],\"      \",Tabla[3][5])\n",
    "print(\"0.01   \",Tabla[4][0],Tabla[4][1],\"  \",Tabla[4][2],\" \",Tabla[4][3],\"\",Tabla[4][4],\"      \",Tabla[4][5])\n",
    "print(\"0.1    \",Tabla[5][0],Tabla[5][1],\"  \",Tabla[5][2],\" \",Tabla[5][3],\"\",Tabla[5][4],\"      \",Tabla[5][5])\n",
    "print(\"1      \",Tabla[6][0],Tabla[6][1],\"  \",Tabla[6][2],\" \",Tabla[6][3],\"\",Tabla[6][4],\"      \",Tabla[6][5])\n",
    "print(\"10    \",Tabla[7][0],Tabla[7][1],\"  \",Tabla[7][1],\"                \",Tabla[7][3],\" \",Tabla[7][4],\"       \",Tabla[7][5])"
   ]
  },
  {
   "cell_type": "code",
   "execution_count": null,
   "metadata": {},
   "outputs": [],
   "source": []
  },
  {
   "cell_type": "code",
   "execution_count": null,
   "metadata": {},
   "outputs": [],
   "source": []
  }
 ],
 "metadata": {
  "kernelspec": {
   "display_name": "Python 3",
   "language": "python",
   "name": "python3"
  },
  "language_info": {
   "codemirror_mode": {
    "name": "ipython",
    "version": 3
   },
   "file_extension": ".py",
   "mimetype": "text/x-python",
   "name": "python",
   "nbconvert_exporter": "python",
   "pygments_lexer": "ipython3",
   "version": "3.6.4"
  }
 },
 "nbformat": 4,
 "nbformat_minor": 2
}
