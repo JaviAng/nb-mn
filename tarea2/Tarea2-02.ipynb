{
 "cells": [
  {
   "cell_type": "code",
   "execution_count": 95,
   "metadata": {},
   "outputs": [
    {
     "name": "stdout",
     "output_type": "stream",
     "text": [
      "X\t\tExacto\t\t\tAprox1\tAprox2\tAprox3\t\tAprox4\t\tAprox5\n",
      "0\t\t 1.0 \t\t\t 1 \t 1 \t 1.0 \t\t 1.0 \t\t 1.0\n",
      "0.00001\t\t 0.99999999995 \t\t 1 \t 1.0 \t 0.99999999995 \t 0.99999999995 \t 0.99999999995\n",
      "0.0001\t\t 0.999999995 \t\t 1 \t 1.0 \t 0.999999995 \t 0.999999995 \t 0.999999995\n",
      "0.001\t\t 0.9999995000000417 \t 1 \t 1.0 \t 0.9999995 \t 0.9999995 \t 0.9999995000000417\n",
      "0.01\t\t 0.9999500004166653 \t 1 \t 1.0 \t 0.99995 \t 0.99995 \t 0.9999500004166667\n",
      "0.1\t\t 0.9950041652780258 \t 1 \t 1.0 \t 0.995 \t\t 0.995 \t\t 0.9950041666666667\n",
      "1\t\t 0.5403023058681397 \t 1 \t 1 \t 0.5 \t\t 0.5 \t\t 0.5416666666666666\n",
      "10\t\t -0.8390715290764524 \t 1 \t 1 \t -49.0 \t\t -49.0 \t\t 367.66666666666663\n"
     ]
    }
   ],
   "source": [
    "import math\n",
    "\n",
    "c0=1\n",
    "c1=0\n",
    "c2=-1/2\n",
    "c3=0\n",
    "c4=1/24\n",
    "x0=0\n",
    "x1=0.00001\n",
    "x2=0.0001\n",
    "x3=0.001\n",
    "x4=0.01\n",
    "x5=0.1\n",
    "x6=1\n",
    "x7=10\n",
    "\n",
    "Aprox1=c0\n",
    "Aprox2=c0+c1*x0\n",
    "Aprox3=c0+c1*x0+c2*(x0**2)\n",
    "Aprox4=c0+c1*x0+c2*(x0**2)+c3*(x0**3)\n",
    "Aprox5=c0+c1*x0+c2*(x0**2)+c3*(x0**3)+c4*(x0**4)\n",
    "\n",
    "Aprox12=c0\n",
    "Aprox22=c0+c1*x1\n",
    "Aprox32=c0+c1*x1+c2*(x1**2)\n",
    "Aprox42=c0+c1*x1+c2*(x1**2)+c3*(x1**3)\n",
    "Aprox52=c0+c1*x1+c2*(x1**2)+c3*(x1**3)+c4*(x1**4)\n",
    "\n",
    "Aprox13=c0\n",
    "Aprox23=c0+c1*x2\n",
    "Aprox33=c0+c1*x2+c2*(x2**2)\n",
    "Aprox43=c0+c1*x2+c2*(x2**2)+c3*(x2**3)\n",
    "Aprox53=c0+c1*x2+c2*(x2**2)+c3*(x2**3)+c4*(x2**4)\n",
    "\n",
    "Aprox14=c0\n",
    "Aprox24=c0+c1*x3\n",
    "Aprox34=c0+c1*x3+c2*(x3**2)\n",
    "Aprox44=c0+c1*x3+c2*(x3**2)+c3*(x3**3)\n",
    "Aprox54=c0+c1*x3+c2*(x3**2)+c3*(x3**3)+c4*(x3**4)\n",
    "\n",
    "Aprox15=c0\n",
    "Aprox25=c0+c1*x4\n",
    "Aprox35=c0+c1*x4+c2*(x4**2)\n",
    "Aprox45=c0+c1*x4+c2*(x4**2)+c3*(x4**3)\n",
    "Aprox55=c0+c1*x4+c2*(x4**2)+c3*(x4**3)+c4*(x4**4)\n",
    "\n",
    "Aprox16=c0\n",
    "Aprox26=c0+c1*x5\n",
    "Aprox36=c0+c1*x5+c2*(x5**2)\n",
    "Aprox46=c0+c1*x5+c2*(x5**2)+c3*(x5**3)\n",
    "Aprox56=c0+c1*x5+c2*(x5**2)+c3*(x5**3)+c4*(x5**4)\n",
    "\n",
    "Aprox17=c0\n",
    "Aprox27=c0+c1*x6\n",
    "Aprox37=c0+c1*x6+c2*(x6**2)\n",
    "Aprox47=c0+c1*x6+c2*(x6**2)+c3*(x6**3)\n",
    "Aprox57=c0+c1*x6+c2*(x6**2)+c3*(x6**3)+c4*(x6**4)\n",
    "\n",
    "Aprox18=c0\n",
    "Aprox28=c0+c1*x7\n",
    "Aprox38=c0+c1*x7+c2*(x7**2)\n",
    "Aprox48=c0+c1*x7+c2*(x7**2)+c3*(x7**3)\n",
    "Aprox58=c0+c1*x7+c2*(x7**2)+c3*(x7**3)+c4*(x7**4)\n",
    "\n",
    "print('X\\t\\tExacto\\t\\t\\tAprox1\\tAprox2\\tAprox3\\t\\tAprox4\\t\\tAprox5')\n",
    "print('0\\t\\t',math.cos(x0),'\\t\\t\\t',Aprox1,'\\t',Aprox2,'\\t',Aprox3,'\\t\\t',Aprox4,'\\t\\t',Aprox5)\n",
    "print('0.00001\\t\\t',math.cos(x1),'\\t\\t',Aprox12,'\\t',Aprox22,'\\t',Aprox32,'\\t',Aprox42,'\\t',Aprox52)\n",
    "print('0.0001\\t\\t',math.cos(x2),'\\t\\t',Aprox13,'\\t',Aprox23,'\\t',Aprox33,'\\t',Aprox43,'\\t',Aprox53)\n",
    "print('0.001\\t\\t',math.cos(x3),'\\t',Aprox14,'\\t',Aprox24,'\\t',Aprox34,'\\t',Aprox44,'\\t',Aprox54)\n",
    "print('0.01\\t\\t',math.cos(x4),'\\t',Aprox15,'\\t',Aprox25,'\\t',Aprox35,'\\t',Aprox45,'\\t',Aprox55)\n",
    "print('0.1\\t\\t',math.cos(x5),'\\t',Aprox16,'\\t',Aprox26,'\\t',Aprox36,'\\t\\t',Aprox46,'\\t\\t',Aprox56)\n",
    "print('1\\t\\t',math.cos(x6),'\\t',Aprox17,'\\t',Aprox27,'\\t',Aprox37,'\\t\\t',Aprox47,'\\t\\t',Aprox57)\n",
    "print('10\\t\\t',math.cos(x7),'\\t',Aprox18,'\\t',Aprox28,'\\t',Aprox38,'\\t\\t',Aprox48,'\\t\\t',Aprox58)\n",
    "\n",
    "\n"
   ]
  },
  {
   "cell_type": "code",
   "execution_count": null,
   "metadata": {},
   "outputs": [],
   "source": []
  },
  {
   "cell_type": "code",
   "execution_count": null,
   "metadata": {},
   "outputs": [],
   "source": []
  }
 ],
 "metadata": {
  "kernelspec": {
   "display_name": "Python 3",
   "language": "python",
   "name": "python3"
  },
  "language_info": {
   "codemirror_mode": {
    "name": "ipython",
    "version": 3
   },
   "file_extension": ".py",
   "mimetype": "text/x-python",
   "name": "python",
   "nbconvert_exporter": "python",
   "pygments_lexer": "ipython3",
   "version": "3.6.4"
  }
 },
 "nbformat": 4,
 "nbformat_minor": 2
}
