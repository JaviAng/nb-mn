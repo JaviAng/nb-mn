{
 "cells": [
  {
   "cell_type": "markdown",
   "metadata": {},
   "source": [
    "Tarea 2 - 07\n",
    "\n",
    "CARLOS ANDRES CUY HOYOS\n",
    "\n",
    "Complete la siguiente tabla para la función cos(x)cos(x), alrededor del punto a=0a=0, utilizando el número indicado de términos en la aproximación.\n",
    "\n",
    "    x\tExacto\tAprox. 1\tAprox. 2\tAprox. 3\tAprox. 4\tAprox. 5\n",
    "0\t\t\t\t\t\t\n",
    "0.00001\t\t\t\t\t\t\n",
    "0.0001\t\t\t\t\t\t\n",
    "0.001\t\t\t\t\t\t\n",
    "0.01\t\t\t\t\t\t\n",
    "0.1\t\t\t\t\t\t\n",
    "1\t\t\t\t\t\t\n",
    "10\t\t\t\t\t\t"
   ]
  },
  {
   "cell_type": "code",
   "execution_count": 1,
   "metadata": {},
   "outputs": [],
   "source": [
    "%matplotlib inline\n",
    "import matplotlib.pyplot as plt"
   ]
  },
  {
   "cell_type": "code",
   "execution_count": 2,
   "metadata": {},
   "outputs": [],
   "source": [
    "import numpy as np"
   ]
  },
  {
   "cell_type": "code",
   "execution_count": 3,
   "metadata": {},
   "outputs": [],
   "source": [
    "matrix = [[0 for i in range(7)] for i in range(8)]\n",
    "matrix[0][0]=0\n",
    "matrix[1][0]=0.00001\n",
    "matrix[2][0]=0.0001\n",
    "matrix[3][0]=0.001\n",
    "matrix[4][0]=0.01\n",
    "matrix[5][0]=0.1\n",
    "matrix[6][0]=1\n",
    "matrix[7][0]=10"
   ]
  },
  {
   "cell_type": "code",
   "execution_count": 4,
   "metadata": {},
   "outputs": [],
   "source": [
    "c0 = 1      # 1\n",
    "c1 = 0      # 0\n",
    "c2 = -0.5   # -0.5\n",
    "c3 = 0      #\n",
    "c4 = 1/24   #"
   ]
  },
  {
   "cell_type": "code",
   "execution_count": 5,
   "metadata": {},
   "outputs": [],
   "source": [
    "for i in range(8):\n",
    "    matrix[i][1]=np.cos(matrix[i][0])\n",
    "    \n",
    "for i in range(8):\n",
    "    matrix[i][2]=c0\n",
    "    \n",
    "for i in range(8):\n",
    "    matrix[i][3]=c0 + c1*matrix[i][0]\n",
    "    \n",
    "for i in range(8):\n",
    "    matrix[i][4]=c0 + c1*matrix[i][0] + c2*(matrix[i][0]**2)\n",
    "    \n",
    "for i in range(8):\n",
    "    matrix[i][5]=c0 + c1*matrix[i][0] + c2*(matrix[i][0]**2) + c3*(matrix[i][0]**3)\n",
    "\n",
    "for i in range(8):\n",
    "    matrix[i][6]=c0 + c1*matrix[i][0] + c2*(matrix[i][0]**2) + c3*(matrix[i][0]**3) + c4*(matrix[i][0]**4)"
   ]
  },
  {
   "cell_type": "code",
   "execution_count": 6,
   "metadata": {},
   "outputs": [],
   "source": [
    "#for i in range(8):\n",
    "#    print('%.10f' % matrix[i][0] +\"   \"+ '%.10f' % matrix[i][1] +\"   \"+ '%.10f' % matrix[i][2] +\"   \"+ '%.10f' % matrix[i][3] +\"   \"+ '%.10f' % matrix[i][4] +\"   \"+ '%.10f' % matrix[i][5] +\"   \"+ '%.10f' % matrix[i][6])"
   ]
  },
  {
   "cell_type": "code",
   "execution_count": 7,
   "metadata": {},
   "outputs": [
    {
     "name": "stdout",
     "output_type": "stream",
     "text": [
      "x         Exacto               Aprox. 1  Aprox. 2  Aprox. 3       Aprox. 4       Aprox. 5            \n",
      "\n",
      "0         1.0                  1         1         1.0            1.0            1.0                 \n",
      "1e-05     0.99999999995        1         1.0       0.99999999995  0.99999999995  0.99999999995       \n",
      "0.0001    0.999999995          1         1.0       0.999999995    0.999999995    0.999999995         \n",
      "0.001     0.9999995000000417   1         1.0       0.9999995      0.9999995      0.9999995000000417  \n",
      "0.01      0.9999500004166653   1         1.0       0.99995        0.99995        0.9999500004166667  \n",
      "0.1       0.9950041652780258   1         1.0       0.995          0.995          0.9950041666666667  \n",
      "1         0.5403023058681397   1         1         0.5            0.5            0.5416666666666666  \n",
      "10        -0.8390715290764524  1         1         -49.0          -49.0          367.66666666666663  \n"
     ]
    }
   ],
   "source": [
    "print(\"{0:<10}{1:<21}{2:<10}{3:<10}{4:<15}{5:<15}{6:<20}\".format(\"x\",\"Exacto\",\"Aprox. 1\",\"Aprox. 2\",\"Aprox. 3\",\"Aprox. 4\",\"Aprox. 5\"))\n",
    "print()\n",
    "for i in range(8):\n",
    "    print(\"{0:<10}{1:<21}{2:<10}{3:<10}{4:<15}{5:<15}{6:<20}\".format(matrix[i][0],matrix[i][1],matrix[i][2],matrix[i][3],matrix[i][4],matrix[i][5],matrix[i][6]))"
   ]
  },
  {
   "cell_type": "code",
   "execution_count": null,
   "metadata": {},
   "outputs": [],
   "source": []
  }
 ],
 "metadata": {
  "kernelspec": {
   "display_name": "Python 3",
   "language": "python",
   "name": "python3"
  },
  "language_info": {
   "codemirror_mode": {
    "name": "ipython",
    "version": 3
   },
   "file_extension": ".py",
   "mimetype": "text/x-python",
   "name": "python",
   "nbconvert_exporter": "python",
   "pygments_lexer": "ipython3",
   "version": "3.6.4"
  }
 },
 "nbformat": 4,
 "nbformat_minor": 2
}
