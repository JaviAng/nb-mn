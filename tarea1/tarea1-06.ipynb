{
 "cells": [
  {
   "cell_type": "code",
   "execution_count": 3,
   "metadata": {},
   "outputs": [
    {
     "name": "stdout",
     "output_type": "stream",
     "text": [
      "\n",
      "Introduce un numero:5.25\n",
      "\n",
      "este es el numero entero: 5\n",
      "\n",
      "este es el numero decimal: 0.25\n",
      "\n",
      "numero entero binarizado: 101\n",
      "\n",
      "numero decimal binarizado: 101\n",
      "\n",
      "corrimiento +numero estandar: 129\n",
      "\n",
      "binarizado de lo anterior: 10000001\n",
      "0 10000001 10110100000000000000000000000000000 \n",
      "\n"
     ]
    }
   ],
   "source": [
    "import math\n",
    "import numpy as np\n",
    "import scipy\n",
    "\n",
    "\n",
    "numero = float (input('\\nIntroduce un numero:'))\n",
    "valor_absoluto = math.fabs(numero)\n",
    "parte_entera = int(valor_absoluto)\n",
    "parte_decimal = valor_absoluto - parte_entera\n",
    "\n",
    "print('\\neste es el numero entero:',parte_entera)\n",
    "print('\\neste es el numero decimal:',parte_decimal)\n",
    "\n",
    "def Binarizar_Entero(Entero):\n",
    "        Binario = ''\n",
    "        while Entero // 2 !=0:\n",
    "            Binario = str(Entero % 2)+Binario\n",
    "            Entero = Entero // 2\n",
    "        return str(Entero) + Binario\n",
    "            \n",
    "binario_1 = Binarizar_Entero(parte_entera)    \n",
    "print('\\nnumero entero binarizado:',binario_1)\n",
    "\n",
    "if parte_decimal > 0.0:\n",
    "    def Binarizar_Decimal(parte_decimal):\n",
    "        Binario=''\n",
    "        while parte_decimal != 0 :\n",
    "            parte_decimal = parte_decimal * 2\n",
    "            parte_decimal_entera = int (parte_decimal)\n",
    "            parte_decimal = parte_decimal - parte_decimal_entera\n",
    "            Binario = Binario + str(parte_decimal_entera)\n",
    "        return str(parte_decimal_entera) + Binario\n",
    "\n",
    "    binario_2 = Binarizar_Decimal(parte_decimal)    \n",
    "    print('\\nnumero decimal binarizado:',binario_2)\n",
    "else:\n",
    "    binario_2= '0'\n",
    "       \n",
    "def Binarizar_coma(Entero):\n",
    "        Binario = ''\n",
    "        while Entero // 2 !=0:\n",
    "            Binario = str(Entero % 2)+Binario\n",
    "            Entero = Entero // 2\n",
    "        return str(Entero) + Binario\n",
    "\n",
    "coma = (len(binario_1) -1 ) +127\n",
    "print('\\ncorrimiento +numero estandar:',coma)\n",
    "    \n",
    "binario_coma = Binarizar_coma(coma)    \n",
    "print('\\nbinarizado de lo anterior:',binario_coma)\n",
    "    \n",
    "if numero > 0:\n",
    "    print('0',binario_coma,binario_1+binario_2.ljust(32,'0'),'\\n')\n",
    "else:\n",
    "    print('1',binario_coma,binario_1+binario_2.ljust(32,'0'),'\\n')\n",
    "\n",
    "\n",
    "\n",
    "\n",
    "\n",
    "    \n",
    "\n",
    "\n"
   ]
  },
  {
   "cell_type": "code",
   "execution_count": null,
   "metadata": {},
   "outputs": [],
   "source": []
  }
 ],
 "metadata": {
  "kernelspec": {
   "display_name": "Python 3",
   "language": "python",
   "name": "python3"
  },
  "language_info": {
   "codemirror_mode": {
    "name": "ipython",
    "version": 3
   },
   "file_extension": ".py",
   "mimetype": "text/x-python",
   "name": "python",
   "nbconvert_exporter": "python",
   "pygments_lexer": "ipython3",
   "version": "3.6.4"
  }
 },
 "nbformat": 4,
 "nbformat_minor": 2
}
