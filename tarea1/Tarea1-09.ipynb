{
 "cells": [
  {
   "cell_type": "code",
   "execution_count": null,
   "metadata": {},
   "outputs": [
    {
     "name": "stdout",
     "output_type": "stream",
     "text": [
      "ingrese numero5.5\n",
      "decimal parte entera 101\n",
      "el numero ingresado y convertido a estandar IEE 754 es: 01000000101100000000000000000000\n"
     ]
    }
   ],
   "source": [
    "import os\n",
    "def dec_bin (dec):\n",
    "    if dec > 0:\n",
    "        sim = '0'\n",
    "    else:\n",
    "        sim = '1'\n",
    "    dec = abs (dec)\n",
    "    parte_entera= int(dec)\n",
    "    parte_decimal = dec - parte_entera\n",
    "    binario = ''\n",
    "    while parte_entera > 1:\n",
    "        binario = str(parte_entera % 2) + binario\n",
    "        parte_entera = parte_entera // 2\n",
    "    vector= str(parte_entera)+ binario\n",
    "    coma=(len(vector)-1)+127\n",
    "    print('decimal parte entera',vector)\n",
    "    b1 = ''\n",
    "    while coma > 1:\n",
    "        b1= str(coma%2) + b1\n",
    "        coma = coma // 2\n",
    "        \n",
    "    b2 = ''\n",
    "    while parte_decimal!= 0:\n",
    "        parte_decimal = parte_decimal*2\n",
    "        a = int(parte_decimal)\n",
    "        parte_decimal = parte_decimal - a\n",
    "        b2 = b2 + str(a)\n",
    "    vector = vector + str (b2)\n",
    "    mostrar = ((str(sim) + str(coma) + b1 + vector[1:]).ljust(32,'0') )\n",
    "    mostrar_1 = ''\n",
    "    for i in range (32):\n",
    "        mostrar_1 = mostrar_1 + str (mostrar[i])\n",
    "    return mostrar_1\n",
    "op = ''\n",
    "while op != 'n':\n",
    "    os.system ('cls')\n",
    "    numero = float (input('ingrese numero'))\n",
    "    print ('el numero ingresado y convertido a estandar IEE 754 es:', dec_bin(numero))\n",
    "    op= input('reiniciar s o  n')"
   ]
  },
  {
   "cell_type": "code",
   "execution_count": null,
   "metadata": {
    "collapsed": true
   },
   "outputs": [],
   "source": []
  }
 ],
 "metadata": {
  "kernelspec": {
   "display_name": "Python 3",
   "language": "python",
   "name": "python3"
  },
  "language_info": {
   "codemirror_mode": {
    "name": "ipython",
    "version": 3
   },
   "file_extension": ".py",
   "mimetype": "text/x-python",
   "name": "python",
   "nbconvert_exporter": "python",
   "pygments_lexer": "ipython3",
   "version": "3.6.3"
  }
 },
 "nbformat": 4,
 "nbformat_minor": 2
}
