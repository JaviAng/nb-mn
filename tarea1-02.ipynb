{
 "cells": [
  {
   "cell_type": "code",
   "execution_count": 41,
   "metadata": {},
   "outputs": [
    {
     "name": "stdout",
     "output_type": "stream",
     "text": [
      "introduzca el número que desea convertir:7.3\n",
      " el número binario en formato IEEE 754 correspondiente al número ingresado es: \n",
      "010000001111[0, 1, 0, 0, 1, 1, 0, 0, 1, 1, 0, 0, 1, 1, 0, 0, 1, 1, 0, 0, 1, 1, 0]\n"
     ]
    }
   ],
   "source": [
    "def BinDec(decimal):\n",
    "    bina = ''\n",
    "    while decimal // 2 != 0:\n",
    "        bina = str( decimal % 2) + bina\n",
    "        decimal = decimal // 2\n",
    "    return str(decimal) + bina\n",
    "N = float(input('introduzca el número que desea convertir:'))\n",
    "E = int(abs(N))\n",
    "D = abs(N) % 1\n",
    "D1 = [0]*23\n",
    "D2 = [0]*23\n",
    "\n",
    "s = 1\n",
    "if N > 0:\n",
    "    s = 0\n",
    "    \n",
    "Ent = BinDec(E)\n",
    "C = len(Ent) - 1\n",
    "exp = 127 + C\n",
    "e = BinDec(exp)\n",
    "bina2 =''\n",
    "for a in range(23):\n",
    "    D = D*2\n",
    "    if D >= 1:\n",
    "        D1[0+a] = 1\n",
    "    D = D % 1\n",
    "for a in range(23):\n",
    "    D2[0 + a ] = D1[0 + a]\n",
    "   \n",
    "\n",
    "out = str(s) + str(e) + str(Ent) + str(D2)\n",
    "print(' el número binario en formato IEEE 754 correspondiente al número ingresado es: ')\n",
    "print(out)\n",
    "\n",
    "#Oscar Javier Martinez Caro-161003324\n",
    "#Juan Manuel Vera Forero- 161003438\n",
    "\n"
   ]
  },
  {
   "cell_type": "code",
   "execution_count": null,
   "metadata": {},
   "outputs": [],
   "source": []
  },
  {
   "cell_type": "code",
   "execution_count": null,
   "metadata": {},
   "outputs": [],
   "source": []
  }
 ],
 "metadata": {
  "kernelspec": {
   "display_name": "Python 3",
   "language": "python",
   "name": "python3"
  },
  "language_info": {
   "codemirror_mode": {
    "name": "ipython",
    "version": 3
   },
   "file_extension": ".py",
   "mimetype": "text/x-python",
   "name": "python",
   "nbconvert_exporter": "python",
   "pygments_lexer": "ipython3",
   "version": "3.6.4"
  }
 },
 "nbformat": 4,
 "nbformat_minor": 2
}
