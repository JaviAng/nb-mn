{
 "cells": [
  {
   "cell_type": "code",
   "execution_count": 1,
   "metadata": {},
   "outputs": [
    {
     "name": "stdout",
     "output_type": "stream",
     "text": [
      "                    Conversion de Decimal a IEEE 754 \n",
      "Introduzca el Numero que desea convertir al formato IEEE 754:  5777\n",
      "('el numero ingresado es: ', 5777.0)\n",
      "     Numero es positivo \n",
      "('la conversion de decimal a binario es:', '1011010010001')\n",
      "*\n",
      "139\n",
      "10001011\n",
      "('                  ', 'S', '  E', '         F')\n",
      "('Numero IEEE 754 :', ' 0', '10001011', '1011010010001')\n"
     ]
    }
   ],
   "source": [
    "from numpy import array \n",
    "import math\n",
    "print(\"                    Conversion de Decimal a IEEE 754 \")\n",
    "decimal=float(input(\"Introduzca el Numero que desea convertir al formato IEEE 754:  \"))\n",
    "print(\"el numero ingresado es: \",decimal)\n",
    "conv =\"\"\n",
    "conv1=\"\"\n",
    "dat=\"\"\n",
    "dat2=\"\"\n",
    "a=-1\n",
    "b=0\n",
    "c=0\n",
    "d=0\n",
    "\n",
    "if (decimal > 0):\n",
    "    print(\"     Numero es positivo \")\n",
    "    while(decimal > 0):\n",
    "        if (decimal%2 == 0):\n",
    "            conv = \"0\" + conv\n",
    "        else:\n",
    "            conv = \"1\" + conv\n",
    "        decimal = int(math.floor(decimal/2))\n",
    "        \n",
    "        \n",
    "        \n",
    "print(\"la conversion de decimal a binario es:\",conv)\n",
    "dat=conv\n",
    "\n",
    "for i in dat:\n",
    "        d = a + 2\n",
    "        a = a + 1\n",
    "            \n",
    "print(\"*\")        \n",
    "b = a + 127\n",
    "print(b)\n",
    "    \n",
    "if (b > 0):\n",
    "    while(b > 0):\n",
    "        if (b%2 == 0):\n",
    "            conv1 = \"0\" + conv1\n",
    "        else:\n",
    "            conv1 = \"1\" + conv1\n",
    "        b = int(math.floor(b/2))\n",
    "        \n",
    "      \n",
    "    \n",
    "    print(conv1)\n",
    "    print(\"                  \",\"S\",\"  E\",\"         F\")\n",
    "    print(\"Numero IEEE 754 :\",\" 0\",conv1,conv)\n",
    "    \n",
    "\n",
    "\n",
    "            \n",
    "\n",
    "\n",
    "    \n",
    "\n",
    "\n",
    "\n"
   ]
  },
  {
   "cell_type": "code",
   "execution_count": null,
   "metadata": {},
   "outputs": [],
   "source": []
  }
 ],
 "metadata": {
  "kernelspec": {
   "display_name": "Python 2",
   "language": "python",
   "name": "python2"
  },
  "language_info": {
   "codemirror_mode": {
    "name": "ipython",
    "version": 2
   },
   "file_extension": ".py",
   "mimetype": "text/x-python",
   "name": "python",
   "nbconvert_exporter": "python",
   "pygments_lexer": "ipython2",
   "version": "2.7.14"
  }
 },
 "nbformat": 4,
 "nbformat_minor": 2
}
